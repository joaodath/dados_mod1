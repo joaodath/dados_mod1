{
 "cells": [
  {
   "cell_type": "code",
   "execution_count": 1,
   "metadata": {},
   "outputs": [],
   "source": [
    "#imports\n",
    "from sklearn.datasets import load_digits\n",
    "from sklearn.ensemble import AdaBoostClassifier, RandomForestClassifier\n",
    "from sklearn.tree import DecisionTreeClassifier\n",
    "\n",
    "from sklearn.decomposition import PCA\n",
    "\n",
    "from sklearn.model_selection import train_test_split\n",
    "from sklearn.metrics import accuracy_score, precision_score, recall_score\n",
    "\n",
    "import lightgbm as lgb\n"
   ]
  },
  {
   "cell_type": "code",
   "execution_count": 20,
   "metadata": {},
   "outputs": [
    {
     "ename": "ImportError",
     "evalue": "cannot import name 'UserWarning' from 'lightgbm' (/home/joao/GitHub/Blue/trilha_dados/dados_mod1/.projeto2/lib/python3.10/site-packages/lightgbm/__init__.py)",
     "output_type": "error",
     "traceback": [
      "\u001b[0;31m---------------------------------------------------------------------------\u001b[0m",
      "\u001b[0;31mImportError\u001b[0m                               Traceback (most recent call last)",
      "\u001b[1;32m/home/joao/GitHub/Blue/trilha_dados/dados_mod1/mod_3/aula2005.ipynb Cell 2'\u001b[0m in \u001b[0;36m<cell line: 4>\u001b[0;34m()\u001b[0m\n\u001b[1;32m      <a href='vscode-notebook-cell:/home/joao/GitHub/Blue/trilha_dados/dados_mod1/mod_3/aula2005.ipynb#ch0000020?line=0'>1</a>\u001b[0m \u001b[39m# aqui a gente cala a boca do pandas\u001b[39;00m\n\u001b[1;32m      <a href='vscode-notebook-cell:/home/joao/GitHub/Blue/trilha_dados/dados_mod1/mod_3/aula2005.ipynb#ch0000020?line=1'>2</a>\u001b[0m \u001b[39m# importa o filtro\u001b[39;00m\n\u001b[1;32m      <a href='vscode-notebook-cell:/home/joao/GitHub/Blue/trilha_dados/dados_mod1/mod_3/aula2005.ipynb#ch0000020?line=2'>3</a>\u001b[0m \u001b[39mfrom\u001b[39;00m \u001b[39mwarnings\u001b[39;00m \u001b[39mimport\u001b[39;00m simplefilter\n\u001b[0;32m----> <a href='vscode-notebook-cell:/home/joao/GitHub/Blue/trilha_dados/dados_mod1/mod_3/aula2005.ipynb#ch0000020?line=3'>4</a>\u001b[0m \u001b[39mfrom\u001b[39;00m \u001b[39mlightgbm\u001b[39;00m \u001b[39mimport\u001b[39;00m \u001b[39mUserWarning\u001b[39;00m\n\u001b[1;32m      <a href='vscode-notebook-cell:/home/joao/GitHub/Blue/trilha_dados/dados_mod1/mod_3/aula2005.ipynb#ch0000020?line=5'>6</a>\u001b[0m \u001b[39m# monta o filtro\u001b[39;00m\n\u001b[1;32m      <a href='vscode-notebook-cell:/home/joao/GitHub/Blue/trilha_dados/dados_mod1/mod_3/aula2005.ipynb#ch0000020?line=6'>7</a>\u001b[0m simplefilter(\u001b[39m\"\u001b[39m\u001b[39mignore\u001b[39m\u001b[39m\"\u001b[39m, category\u001b[39m=\u001b[39m\u001b[39mUserWarning\u001b[39;00m)\n",
      "\u001b[0;31mImportError\u001b[0m: cannot import name 'UserWarning' from 'lightgbm' (/home/joao/GitHub/Blue/trilha_dados/dados_mod1/.projeto2/lib/python3.10/site-packages/lightgbm/__init__.py)"
     ]
    }
   ],
   "source": [
    "# # aqui a gente cala a boca do pandas\n",
    "# # importa o filtro\n",
    "# from warnings import simplefilter\n",
    "# from lightgbm import UserWarning\n",
    "\n",
    "# # monta o filtro\n",
    "# simplefilter(\"ignore\", category=UserWarning)"
   ]
  },
  {
   "cell_type": "code",
   "execution_count": 2,
   "metadata": {},
   "outputs": [],
   "source": [
    "def print_metrics(model_name: str, y_test, y_pred, y_test_pca, y_pred_pca):\n",
    "  return (f'''\n",
    "Acurácia do Modelo {model_name} sem PCA: {accuracy_score(y_test, y_pred):.4f}\n",
    "Acurácia do Modelo {model_name} com PCA: {accuracy_score(y_test_pca, y_pred_pca):.4f}\n",
    "\n",
    "Precisão do Modelo {model_name} sem PCA: {precision_score(y_test, y_pred, average='macro'):.4f}\n",
    "Precisão do Modelo {model_name} com PCA: {precision_score(y_test_pca, y_pred_pca, average='macro'):.4f}\n",
    "\n",
    "Recall (Sensibilidade) do Modelo {model_name} sem PCA: {recall_score(y_test, y_pred, average='macro'):.4f}\n",
    "Recall (Sensibilidade) do Modelo {model_name} com PCA: {recall_score(y_test_pca, y_pred_pca, average='macro'):.4f}\n",
    "''')"
   ]
  },
  {
   "cell_type": "code",
   "execution_count": 3,
   "metadata": {},
   "outputs": [],
   "source": [
    "#see you later aligator\n",
    "def all_metrics(method, y_test, y_pred, y_test_pca, y_pred_pca):\n",
    "  metrics_dict = {'pca_less':[], 'pca': []}\n",
    "  if method == 'accuracy':\n",
    "    metrics_dict['pca_less'].append(accuracy_score(y_test, y_pred))\n",
    "    metrics_dict['pca'].append(accuracy_score(y_test_pca, y_pred_pca))\n",
    "  elif method == 'precision':\n",
    "    metrics_dict['pca_less'].append(precision_score(y_test, y_pred, average='macro'))\n",
    "    metrics_dict['pca'].append(precision_score(y_test_pca, y_pred_pca, average='macro'))\n",
    "  elif method == 'recall':\n",
    "    metrics_dict['pca_less'].append(recall_score(y_test, y_pred, average='macro'))\n",
    "    metrics_dict['pca'].append(recall_score(y_test_pca, y_pred_pca, average='macro'))\n",
    "\n",
    "  return metrics_dict"
   ]
  },
  {
   "cell_type": "code",
   "execution_count": 4,
   "metadata": {},
   "outputs": [],
   "source": [
    "def question02_adaboost_tree(learning_rate, X_train, y_train, X_test, y_test, X_train_pca, y_train_pca, X_test_pca, y_pred, y_test_pca, y_pred_pca):\n",
    "    #learning_rate = []\n",
    "    for i in learning_rate:\n",
    "      modelAdaBoost_tree = AdaBoostClassifier(DecisionTreeClassifier(), n_estimators=100, learning_rate=i)\n",
    "\n",
    "      #predição sem pca\n",
    "      modelAdaBoost_tree.fit(X_train, y_train)\n",
    "      y_pred = modelAdaBoost_tree.predict(X_test)\n",
    "\n",
    "      #predição com pca\n",
    "      modelAdaBoost_tree.fit(X_train_pca, y_train_pca)\n",
    "      y_pred_pca = modelAdaBoost_tree.predict(X_test_pca)\n",
    "\n",
    "      print(print_metrics(model_name='Árvore com AdaBoost LR {learning_rate}', y_pred=y_pred, y_test=y_test, y_pred_pca=y_pred_pca, y_test_pca=y_test_pca).format(learning_rate = i))"
   ]
  },
  {
   "cell_type": "code",
   "execution_count": 5,
   "metadata": {},
   "outputs": [],
   "source": [
    "dataset = load_digits()\n",
    "\n",
    "X = dataset.data\n",
    "y = dataset.target\n",
    "\n",
    "#pca\n",
    "pca = PCA(n_components=29) #reduz a complexidade dos atributos combinando-os para reduzir tempo de processamento\n",
    "X_pca = pca.fit_transform(X)\n",
    "\n",
    "#split de dados\n",
    "X_train, X_test, y_train, y_test = train_test_split(X, y, test_size = 0.2, random_state=42)\n",
    "X_train_pca, X_test_pca, y_train_pca, y_test_pca = train_test_split(X_pca, y, test_size = 0.2, random_state=42)\n"
   ]
  },
  {
   "cell_type": "code",
   "execution_count": 6,
   "metadata": {},
   "outputs": [
    {
     "name": "stdout",
     "output_type": "stream",
     "text": [
      "\n",
      "Acurácia do Modelo Árvore com AdaBoost LR 1 sem PCA: 0.8500\n",
      "Acurácia do Modelo Árvore com AdaBoost LR 1 com PCA: 0.8611\n",
      "\n",
      "Precisão do Modelo Árvore com AdaBoost LR 1 sem PCA: 0.8548\n",
      "Precisão do Modelo Árvore com AdaBoost LR 1 com PCA: 0.8605\n",
      "\n",
      "Recall (Sensibilidade) do Modelo Árvore com AdaBoost LR 1 sem PCA: 0.8436\n",
      "Recall (Sensibilidade) do Modelo Árvore com AdaBoost LR 1 com PCA: 0.8622\n",
      "\n",
      "\n",
      "Acurácia do Modelo Árvore com AdaBoost LR 2 sem PCA: 0.8500\n",
      "Acurácia do Modelo Árvore com AdaBoost LR 2 com PCA: 0.8611\n",
      "\n",
      "Precisão do Modelo Árvore com AdaBoost LR 2 sem PCA: 0.8548\n",
      "Precisão do Modelo Árvore com AdaBoost LR 2 com PCA: 0.8605\n",
      "\n",
      "Recall (Sensibilidade) do Modelo Árvore com AdaBoost LR 2 sem PCA: 0.8436\n",
      "Recall (Sensibilidade) do Modelo Árvore com AdaBoost LR 2 com PCA: 0.8622\n",
      "\n",
      "\n",
      "Acurácia do Modelo Árvore com AdaBoost LR 3 sem PCA: 0.8500\n",
      "Acurácia do Modelo Árvore com AdaBoost LR 3 com PCA: 0.8611\n",
      "\n",
      "Precisão do Modelo Árvore com AdaBoost LR 3 sem PCA: 0.8548\n",
      "Precisão do Modelo Árvore com AdaBoost LR 3 com PCA: 0.8605\n",
      "\n",
      "Recall (Sensibilidade) do Modelo Árvore com AdaBoost LR 3 sem PCA: 0.8436\n",
      "Recall (Sensibilidade) do Modelo Árvore com AdaBoost LR 3 com PCA: 0.8622\n",
      "\n",
      "\n",
      "Acurácia do Modelo Árvore com AdaBoost LR 4 sem PCA: 0.8500\n",
      "Acurácia do Modelo Árvore com AdaBoost LR 4 com PCA: 0.8611\n",
      "\n",
      "Precisão do Modelo Árvore com AdaBoost LR 4 sem PCA: 0.8548\n",
      "Precisão do Modelo Árvore com AdaBoost LR 4 com PCA: 0.8605\n",
      "\n",
      "Recall (Sensibilidade) do Modelo Árvore com AdaBoost LR 4 sem PCA: 0.8436\n",
      "Recall (Sensibilidade) do Modelo Árvore com AdaBoost LR 4 com PCA: 0.8622\n",
      "\n",
      "\n",
      "Acurácia do Modelo Árvore com AdaBoost LR 5 sem PCA: 0.8500\n",
      "Acurácia do Modelo Árvore com AdaBoost LR 5 com PCA: 0.8611\n",
      "\n",
      "Precisão do Modelo Árvore com AdaBoost LR 5 sem PCA: 0.8548\n",
      "Precisão do Modelo Árvore com AdaBoost LR 5 com PCA: 0.8605\n",
      "\n",
      "Recall (Sensibilidade) do Modelo Árvore com AdaBoost LR 5 sem PCA: 0.8436\n",
      "Recall (Sensibilidade) do Modelo Árvore com AdaBoost LR 5 com PCA: 0.8622\n",
      "\n",
      "\n",
      "Acurácia do Modelo Árvore com AdaBoost LR 6 sem PCA: 0.8500\n",
      "Acurácia do Modelo Árvore com AdaBoost LR 6 com PCA: 0.8611\n",
      "\n",
      "Precisão do Modelo Árvore com AdaBoost LR 6 sem PCA: 0.8548\n",
      "Precisão do Modelo Árvore com AdaBoost LR 6 com PCA: 0.8605\n",
      "\n",
      "Recall (Sensibilidade) do Modelo Árvore com AdaBoost LR 6 sem PCA: 0.8436\n",
      "Recall (Sensibilidade) do Modelo Árvore com AdaBoost LR 6 com PCA: 0.8622\n",
      "\n",
      "\n",
      "Acurácia do Modelo Árvore com AdaBoost LR 7 sem PCA: 0.8500\n",
      "Acurácia do Modelo Árvore com AdaBoost LR 7 com PCA: 0.8611\n",
      "\n",
      "Precisão do Modelo Árvore com AdaBoost LR 7 sem PCA: 0.8548\n",
      "Precisão do Modelo Árvore com AdaBoost LR 7 com PCA: 0.8605\n",
      "\n",
      "Recall (Sensibilidade) do Modelo Árvore com AdaBoost LR 7 sem PCA: 0.8436\n",
      "Recall (Sensibilidade) do Modelo Árvore com AdaBoost LR 7 com PCA: 0.8622\n",
      "\n",
      "\n",
      "Acurácia do Modelo Árvore com AdaBoost LR 8 sem PCA: 0.8500\n",
      "Acurácia do Modelo Árvore com AdaBoost LR 8 com PCA: 0.8611\n",
      "\n",
      "Precisão do Modelo Árvore com AdaBoost LR 8 sem PCA: 0.8548\n",
      "Precisão do Modelo Árvore com AdaBoost LR 8 com PCA: 0.8605\n",
      "\n",
      "Recall (Sensibilidade) do Modelo Árvore com AdaBoost LR 8 sem PCA: 0.8436\n",
      "Recall (Sensibilidade) do Modelo Árvore com AdaBoost LR 8 com PCA: 0.8622\n",
      "\n",
      "\n",
      "Acurácia do Modelo Árvore com AdaBoost LR 9 sem PCA: 0.8500\n",
      "Acurácia do Modelo Árvore com AdaBoost LR 9 com PCA: 0.8611\n",
      "\n",
      "Precisão do Modelo Árvore com AdaBoost LR 9 sem PCA: 0.8548\n",
      "Precisão do Modelo Árvore com AdaBoost LR 9 com PCA: 0.8605\n",
      "\n",
      "Recall (Sensibilidade) do Modelo Árvore com AdaBoost LR 9 sem PCA: 0.8436\n",
      "Recall (Sensibilidade) do Modelo Árvore com AdaBoost LR 9 com PCA: 0.8622\n",
      "\n"
     ]
    }
   ],
   "source": [
    "#modelo adaboost for\n",
    "learning_rate_max = 10\n",
    "for i in range(1, learning_rate_max):\n",
    "  modelAdaBoost_tree = AdaBoostClassifier(DecisionTreeClassifier(), n_estimators=100, learning_rate=i, random_state=42)\n",
    "\n",
    "  #predição sem pca\n",
    "  modelAdaBoost_tree.fit(X_train, y_train)\n",
    "  y_pred = modelAdaBoost_tree.predict(X_test)\n",
    "\n",
    "  #predição com pca\n",
    "  modelAdaBoost_tree.fit(X_train_pca, y_train_pca)\n",
    "  y_pred_pca = modelAdaBoost_tree.predict(X_test_pca)\n",
    "\n",
    "  print(print_metrics(model_name='Árvore com AdaBoost LR {learning_rate}', y_pred=y_pred, y_test=y_test, y_pred_pca=y_pred_pca, y_test_pca=y_test_pca).format(learning_rate = i))"
   ]
  },
  {
   "cell_type": "code",
   "execution_count": 7,
   "metadata": {},
   "outputs": [],
   "source": [
    "#modelo de arvore com adaboost\n",
    "\n",
    "modelAdaBoost_tree = AdaBoostClassifier(DecisionTreeClassifier(), n_estimators=100, learning_rate=7, random_state=42)\n",
    "\n",
    "#predição sem pca\n",
    "modelAdaBoost_tree.fit(X_train, y_train)\n",
    "y_pred = modelAdaBoost_tree.predict(X_test)\n",
    "\n",
    "#predição com pca\n",
    "modelAdaBoost_tree.fit(X_train_pca, y_train_pca)\n",
    "y_pred_pca = modelAdaBoost_tree.predict(X_test_pca)"
   ]
  },
  {
   "cell_type": "code",
   "execution_count": 8,
   "metadata": {},
   "outputs": [
    {
     "name": "stdout",
     "output_type": "stream",
     "text": [
      "\n",
      "Acurácia do Modelo Árvore com AdaBoost LR 1 sem PCA: 0.8528\n",
      "Acurácia do Modelo Árvore com AdaBoost LR 1 com PCA: 0.8694\n",
      "\n",
      "Precisão do Modelo Árvore com AdaBoost LR 1 sem PCA: 0.8597\n",
      "Precisão do Modelo Árvore com AdaBoost LR 1 com PCA: 0.8730\n",
      "\n",
      "Recall (Sensibilidade) do Modelo Árvore com AdaBoost LR 1 sem PCA: 0.8483\n",
      "Recall (Sensibilidade) do Modelo Árvore com AdaBoost LR 1 com PCA: 0.8675\n",
      "\n",
      "\n",
      "Acurácia do Modelo Árvore com AdaBoost LR 0.5 sem PCA: 0.8500\n",
      "Acurácia do Modelo Árvore com AdaBoost LR 0.5 com PCA: 0.8556\n",
      "\n",
      "Precisão do Modelo Árvore com AdaBoost LR 0.5 sem PCA: 0.8520\n",
      "Precisão do Modelo Árvore com AdaBoost LR 0.5 com PCA: 0.8598\n",
      "\n",
      "Recall (Sensibilidade) do Modelo Árvore com AdaBoost LR 0.5 sem PCA: 0.8431\n",
      "Recall (Sensibilidade) do Modelo Árvore com AdaBoost LR 0.5 com PCA: 0.8560\n",
      "\n",
      "\n",
      "Acurácia do Modelo Árvore com AdaBoost LR 0.01 sem PCA: 0.8444\n",
      "Acurácia do Modelo Árvore com AdaBoost LR 0.01 com PCA: 0.8667\n",
      "\n",
      "Precisão do Modelo Árvore com AdaBoost LR 0.01 sem PCA: 0.8459\n",
      "Precisão do Modelo Árvore com AdaBoost LR 0.01 com PCA: 0.8683\n",
      "\n",
      "Recall (Sensibilidade) do Modelo Árvore com AdaBoost LR 0.01 sem PCA: 0.8391\n",
      "Recall (Sensibilidade) do Modelo Árvore com AdaBoost LR 0.01 com PCA: 0.8673\n",
      "\n",
      "\n",
      "Acurácia do Modelo Árvore com AdaBoost LR 0.001 sem PCA: 0.8444\n",
      "Acurácia do Modelo Árvore com AdaBoost LR 0.001 com PCA: 0.8667\n",
      "\n",
      "Precisão do Modelo Árvore com AdaBoost LR 0.001 sem PCA: 0.8476\n",
      "Precisão do Modelo Árvore com AdaBoost LR 0.001 com PCA: 0.8692\n",
      "\n",
      "Recall (Sensibilidade) do Modelo Árvore com AdaBoost LR 0.001 sem PCA: 0.8398\n",
      "Recall (Sensibilidade) do Modelo Árvore com AdaBoost LR 0.001 com PCA: 0.8667\n",
      "\n",
      "\n",
      "Acurácia do Modelo Árvore com AdaBoost LR 7 sem PCA: 0.8417\n",
      "Acurácia do Modelo Árvore com AdaBoost LR 7 com PCA: 0.8667\n",
      "\n",
      "Precisão do Modelo Árvore com AdaBoost LR 7 sem PCA: 0.8463\n",
      "Precisão do Modelo Árvore com AdaBoost LR 7 com PCA: 0.8673\n",
      "\n",
      "Recall (Sensibilidade) do Modelo Árvore com AdaBoost LR 7 sem PCA: 0.8368\n",
      "Recall (Sensibilidade) do Modelo Árvore com AdaBoost LR 7 com PCA: 0.8677\n",
      "\n",
      "\n",
      "Acurácia do Modelo Árvore com AdaBoost LR 1.5 sem PCA: 0.8667\n",
      "Acurácia do Modelo Árvore com AdaBoost LR 1.5 com PCA: 0.8639\n",
      "\n",
      "Precisão do Modelo Árvore com AdaBoost LR 1.5 sem PCA: 0.8674\n",
      "Precisão do Modelo Árvore com AdaBoost LR 1.5 com PCA: 0.8652\n",
      "\n",
      "Recall (Sensibilidade) do Modelo Árvore com AdaBoost LR 1.5 sem PCA: 0.8603\n",
      "Recall (Sensibilidade) do Modelo Árvore com AdaBoost LR 1.5 com PCA: 0.8648\n",
      "\n"
     ]
    }
   ],
   "source": [
    "learning_rate = [1, 0.5, 0.01, 0.001, 7, 1.5,]\n",
    "question02_adaboost_tree(learning_rate, X_train, y_train, X_test, y_test, X_train_pca, y_train_pca, X_test_pca, y_pred, y_test_pca, y_pred_pca)"
   ]
  },
  {
   "cell_type": "code",
   "execution_count": 9,
   "metadata": {},
   "outputs": [
    {
     "name": "stdout",
     "output_type": "stream",
     "text": [
      "\n",
      "Acurácia do Modelo Árvore com AdaBoost LR 1 sem PCA: 0.8500\n",
      "Acurácia do Modelo Árvore com AdaBoost LR 1 com PCA: 0.8611\n",
      "\n",
      "Precisão do Modelo Árvore com AdaBoost LR 1 sem PCA: 0.8548\n",
      "Precisão do Modelo Árvore com AdaBoost LR 1 com PCA: 0.8605\n",
      "\n",
      "Recall (Sensibilidade) do Modelo Árvore com AdaBoost LR 1 sem PCA: 0.8436\n",
      "Recall (Sensibilidade) do Modelo Árvore com AdaBoost LR 1 com PCA: 0.8622\n",
      "\n"
     ]
    }
   ],
   "source": [
    "#métricas\n",
    "print(print_metrics(model_name='Árvore com AdaBoost LR 1', y_pred=y_pred, y_test=y_test, y_pred_pca=y_pred_pca, y_test_pca=y_test_pca))"
   ]
  },
  {
   "cell_type": "code",
   "execution_count": 10,
   "metadata": {},
   "outputs": [],
   "source": [
    "#modelo de arvore com random forest\n",
    "\n",
    "modelRandomTree = RandomForestClassifier(n_estimators=100, random_state=42)\n",
    "\n",
    "#predição sem pca\n",
    "modelRandomTree.fit(X_train, y_train)\n",
    "y_pred = modelRandomTree.predict(X_test)\n",
    "\n",
    "#predição com pca\n",
    "modelRandomTree.fit(X_train_pca, y_train_pca)\n",
    "y_pred_pca = modelRandomTree.predict(X_test_pca)"
   ]
  },
  {
   "cell_type": "code",
   "execution_count": 11,
   "metadata": {},
   "outputs": [
    {
     "name": "stdout",
     "output_type": "stream",
     "text": [
      "\n",
      "Acurácia do Modelo Random Forest sem PCA: 0.9722\n",
      "Acurácia do Modelo Random Forest com PCA: 0.9750\n",
      "\n",
      "Precisão do Modelo Random Forest sem PCA: 0.9740\n",
      "Precisão do Modelo Random Forest com PCA: 0.9763\n",
      "\n",
      "Recall (Sensibilidade) do Modelo Random Forest sem PCA: 0.9727\n",
      "Recall (Sensibilidade) do Modelo Random Forest com PCA: 0.9766\n",
      "\n"
     ]
    }
   ],
   "source": [
    "#métricas\n",
    "print(print_metrics(model_name='Random Forest', y_pred=y_pred, y_test=y_test, y_pred_pca=y_pred_pca, y_test_pca=y_test_pca))"
   ]
  },
  {
   "cell_type": "code",
   "execution_count": 12,
   "metadata": {},
   "outputs": [],
   "source": [
    "#modelo de arvore na raça\n",
    "\n",
    "modelTree = DecisionTreeClassifier(random_state=42)\n",
    "\n",
    "#predição sem pca\n",
    "modelTree.fit(X_train, y_train)\n",
    "y_pred = modelTree.predict(X_test)\n",
    "\n",
    "#predição com pca\n",
    "modelTree.fit(X_train_pca, y_train_pca)\n",
    "y_pred_pca = modelTree.predict(X_test_pca)"
   ]
  },
  {
   "cell_type": "code",
   "execution_count": 13,
   "metadata": {},
   "outputs": [
    {
     "name": "stdout",
     "output_type": "stream",
     "text": [
      "\n",
      "Acurácia do Modelo Árvore Pura sem PCA: 0.8417\n",
      "Acurácia do Modelo Árvore Pura com PCA: 0.8611\n",
      "\n",
      "Precisão do Modelo Árvore Pura sem PCA: 0.8447\n",
      "Precisão do Modelo Árvore Pura com PCA: 0.8630\n",
      "\n",
      "Recall (Sensibilidade) do Modelo Árvore Pura sem PCA: 0.8360\n",
      "Recall (Sensibilidade) do Modelo Árvore Pura com PCA: 0.8610\n",
      "\n"
     ]
    }
   ],
   "source": [
    "#métricas\n",
    "print(print_metrics(model_name='Árvore Pura', y_pred=y_pred, y_test=y_test, y_pred_pca=y_pred_pca, y_test_pca=y_test_pca))"
   ]
  },
  {
   "cell_type": "markdown",
   "metadata": {},
   "source": [
    "#### LGBM"
   ]
  },
  {
   "cell_type": "code",
   "execution_count": 14,
   "metadata": {},
   "outputs": [],
   "source": [
    "modelLGBM = lgb.LGBMClassifier(n_estimators=100)\n",
    "\n",
    "#sem pca\n",
    "modelLGBM = modelLGBM.fit(X_train, y_train)\n",
    "y_pred = modelLGBM.predict(X_test)\n",
    "\n",
    "#com pca\n",
    "modelLGBM = modelLGBM.fit(X_train_pca, y_train_pca)\n",
    "y_pred_pca = modelLGBM.predict(X_test_pca)\n"
   ]
  },
  {
   "cell_type": "code",
   "execution_count": 15,
   "metadata": {},
   "outputs": [
    {
     "name": "stdout",
     "output_type": "stream",
     "text": [
      "\n",
      "Acurácia do Modelo LGBM sem PCA: 0.9750\n",
      "Acurácia do Modelo LGBM com PCA: 0.9722\n",
      "\n",
      "Precisão do Modelo LGBM sem PCA: 0.9753\n",
      "Precisão do Modelo LGBM com PCA: 0.9711\n",
      "\n",
      "Recall (Sensibilidade) do Modelo LGBM sem PCA: 0.9743\n",
      "Recall (Sensibilidade) do Modelo LGBM com PCA: 0.9753\n",
      "\n"
     ]
    }
   ],
   "source": [
    "#métricas\n",
    "print(print_metrics(model_name='LGBM', y_pred=y_pred, y_test=y_test, y_pred_pca=y_pred_pca, y_test_pca=y_test_pca))"
   ]
  },
  {
   "cell_type": "code",
   "execution_count": 23,
   "metadata": {},
   "outputs": [],
   "source": [
    "modelLGBM = lgb.LGBMClassifier(n_estimators=150, learning_rate=0.5)\n"
   ]
  },
  {
   "cell_type": "code",
   "execution_count": 24,
   "metadata": {},
   "outputs": [],
   "source": [
    "\n",
    "#sem pca\n",
    "modelLGBM = modelLGBM.fit(X_train, y_train)\n",
    "y_pred = modelLGBM.predict(X_test)\n"
   ]
  },
  {
   "cell_type": "code",
   "execution_count": 25,
   "metadata": {},
   "outputs": [],
   "source": [
    "#com pca\n",
    "modelLGBM = modelLGBM.fit(X_train_pca, y_train_pca)\n",
    "y_pred_pca = modelLGBM.predict(X_test_pca)\n"
   ]
  },
  {
   "cell_type": "code",
   "execution_count": 26,
   "metadata": {},
   "outputs": [
    {
     "name": "stdout",
     "output_type": "stream",
     "text": [
      "\n",
      "Acurácia do Modelo LGBM sem PCA: 0.9750\n",
      "Acurácia do Modelo LGBM com PCA: 0.9583\n",
      "\n",
      "Precisão do Modelo LGBM sem PCA: 0.9768\n",
      "Precisão do Modelo LGBM com PCA: 0.9583\n",
      "\n",
      "Recall (Sensibilidade) do Modelo LGBM sem PCA: 0.9750\n",
      "Recall (Sensibilidade) do Modelo LGBM com PCA: 0.9602\n",
      "\n"
     ]
    }
   ],
   "source": [
    "#métricas\n",
    "print(print_metrics(model_name='LGBM', y_pred=y_pred, y_test=y_test, y_pred_pca=y_pred_pca, y_test_pca=y_test_pca))"
   ]
  },
  {
   "cell_type": "code",
   "execution_count": 56,
   "metadata": {},
   "outputs": [],
   "source": [
    "modelLGBM = lgb.LGBMClassifier(n_estimators=30, learning_rate=0.5, random_state=42)"
   ]
  },
  {
   "cell_type": "code",
   "execution_count": 57,
   "metadata": {},
   "outputs": [],
   "source": [
    "#sem pca\n",
    "modelLGBM = modelLGBM.fit(X_train, y_train)\n",
    "y_pred = modelLGBM.predict(X_test)"
   ]
  },
  {
   "cell_type": "code",
   "execution_count": 58,
   "metadata": {},
   "outputs": [],
   "source": [
    "#com pca\n",
    "modelLGBM = modelLGBM.fit(X_train_pca, y_train_pca)\n",
    "y_pred_pca = modelLGBM.predict(X_test_pca)"
   ]
  },
  {
   "cell_type": "code",
   "execution_count": 59,
   "metadata": {},
   "outputs": [
    {
     "name": "stdout",
     "output_type": "stream",
     "text": [
      "\n",
      "Acurácia do Modelo LGBM sem PCA: 0.9750\n",
      "Acurácia do Modelo LGBM com PCA: 0.9583\n",
      "\n",
      "Precisão do Modelo LGBM sem PCA: 0.9771\n",
      "Precisão do Modelo LGBM com PCA: 0.9583\n",
      "\n",
      "Recall (Sensibilidade) do Modelo LGBM sem PCA: 0.9750\n",
      "Recall (Sensibilidade) do Modelo LGBM com PCA: 0.9602\n",
      "\n"
     ]
    }
   ],
   "source": [
    "#métricas\n",
    "print(print_metrics(model_name='LGBM', y_pred=y_pred, y_test=y_test, y_pred_pca=y_pred_pca, y_test_pca=y_test_pca))"
   ]
  }
 ],
 "metadata": {
  "interpreter": {
   "hash": "0c85a8c794e2ef35fe4da22a5230fa839f732614150129be0b83f468abb08431"
  },
  "kernelspec": {
   "display_name": "Python 3.10.4 ('.projeto2': venv)",
   "language": "python",
   "name": "python3"
  },
  "language_info": {
   "codemirror_mode": {
    "name": "ipython",
    "version": 3
   },
   "file_extension": ".py",
   "mimetype": "text/x-python",
   "name": "python",
   "nbconvert_exporter": "python",
   "pygments_lexer": "ipython3",
   "version": "3.10.4"
  },
  "orig_nbformat": 4
 },
 "nbformat": 4,
 "nbformat_minor": 2
}
