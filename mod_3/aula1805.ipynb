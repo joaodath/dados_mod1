{
 "cells": [
  {
   "cell_type": "markdown",
   "metadata": {},
   "source": [
    "# Exercícios da Aula 18/05 - Mód 3"
   ]
  },
  {
   "cell_type": "code",
   "execution_count": 1,
   "metadata": {},
   "outputs": [],
   "source": [
    "from sklearn.datasets import load_digits\n",
    "\n",
    "from sklearn.svm import SVC\n",
    "from sklearn.neighbors import KNeighborsClassifier\n",
    "\n",
    "from sklearn.decomposition import PCA\n",
    "\n",
    "from sklearn.model_selection import train_test_split\n",
    "from sklearn.ensemble import RandomForestClassifier, BaggingClassifier\n",
    "\n",
    "from sklearn.metrics import accuracy_score, precision_score, recall_score"
   ]
  },
  {
   "cell_type": "code",
   "execution_count": 2,
   "metadata": {},
   "outputs": [],
   "source": [
    "#silêncio, o jovem vai fazer função\n",
    "\n",
    "def print_metrics(model_name: str, y_test, y_pred, y_test_pca, y_pred_pca):\n",
    "  return (f'''\n",
    "Acurácia do Modelo {model_name} sem PCA: {accuracy_score(y_test, y_pred):.4f}\n",
    "Acurácia do Modelo {model_name} com PCA: {accuracy_score(y_test_pca, y_pred_pca):.4f}\n",
    "\n",
    "Precisão do Modelo {model_name} sem PCA: {precision_score(y_test, y_pred, average='macro'):.4f}\n",
    "Precisão do Modelo {model_name} com PCA: {precision_score(y_test_pca, y_pred_pca, average='macro'):.4f}\n",
    "\n",
    "Recall (Sensibilidade) do Modelo {model_name} sem PCA: {recall_score(y_test, y_pred, average='macro'):.4f}\n",
    "Recall (Sensibilidade) do Modelo {model_name} com PCA: {recall_score(y_test_pca, y_pred_pca, average='macro'):.4f}\n",
    "''')"
   ]
  },
  {
   "cell_type": "code",
   "execution_count": 3,
   "metadata": {},
   "outputs": [],
   "source": [
    "#carregando dados\n",
    "dataset = load_digits()\n",
    "\n",
    "#separação\n",
    "X = dataset.data\n",
    "y = dataset.target\n",
    "\n",
    "# pre-processamento\n",
    "pca = PCA(n_components=29) #reduz a complexidade dos atributos combinando-os para reduzir tempo de processamento\n",
    "X_pca = pca.fit_transform(X)\n",
    "\n",
    "#split de dados para treinamento e teste\n",
    "X_train, X_test, y_train, y_test = train_test_split(X, y, test_size = 0.2, random_state=10)\n",
    "X_train_pca, X_test_pca, y_train_pca, y_test_pca = train_test_split(X_pca, y, test_size = 0.2, random_state=10)"
   ]
  },
  {
   "cell_type": "code",
   "execution_count": 4,
   "metadata": {},
   "outputs": [],
   "source": [
    "#construindo modelo\n",
    "modeloRandomF = RandomForestClassifier(random_state=10)\n",
    "modeloRandomF.fit(X_train, y_train)\n",
    "\n",
    "#predict\n",
    "y_pred = modeloRandomF.predict(X_test)"
   ]
  },
  {
   "cell_type": "code",
   "execution_count": 5,
   "metadata": {},
   "outputs": [],
   "source": [
    "#construindo modelo com PCA\n",
    "modeloRandomF.fit(X_train_pca, y_train_pca)\n",
    "\n",
    "#predict\n",
    "y_pred_pca = modeloRandomF.predict(X_test_pca)"
   ]
  },
  {
   "cell_type": "code",
   "execution_count": 6,
   "metadata": {},
   "outputs": [
    {
     "name": "stdout",
     "output_type": "stream",
     "text": [
      "\n",
      "Acurácia do Modelo Random Forest sem PCA: 0.9667\n",
      "Acurácia do Modelo Random Forest com PCA: 0.9611\n",
      "\n",
      "Precisão do Modelo Random Forest sem PCA: 0.9664\n",
      "Precisão do Modelo Random Forest com PCA: 0.9613\n",
      "\n",
      "Recall (Sensibilidade) do Modelo Random Forest sem PCA: 0.9659\n",
      "Recall (Sensibilidade) do Modelo Random Forest com PCA: 0.9617\n",
      "\n"
     ]
    }
   ],
   "source": [
    "#métricas\n",
    "print(print_metrics(model_name='Random Forest', y_pred=y_pred, y_test=y_test, y_pred_pca=y_pred_pca, y_test_pca=y_test_pca))"
   ]
  },
  {
   "cell_type": "markdown",
   "metadata": {},
   "source": [
    "### Bagging"
   ]
  },
  {
   "cell_type": "markdown",
   "metadata": {},
   "source": [
    "#### Bagging com SVC"
   ]
  },
  {
   "cell_type": "code",
   "execution_count": 7,
   "metadata": {},
   "outputs": [],
   "source": [
    "#construindo modelo\n",
    "modeloBaggingSVC = BaggingClassifier(base_estimator=SVC(), n_estimators=100, random_state=10)\n"
   ]
  },
  {
   "cell_type": "code",
   "execution_count": 8,
   "metadata": {},
   "outputs": [],
   "source": [
    "#modelo sem pca\n",
    "modeloBaggingSVC.fit(X_train, y_train)\n",
    "y_pred_bag = modeloBaggingSVC.predict(X_test)"
   ]
  },
  {
   "cell_type": "code",
   "execution_count": 9,
   "metadata": {},
   "outputs": [],
   "source": [
    "#modelo com pca\n",
    "modeloBaggingSVC.fit(X_train_pca, y_train_pca)\n",
    "y_pred_bag_pca = modeloBaggingSVC.predict(X_test_pca)"
   ]
  },
  {
   "cell_type": "code",
   "execution_count": 10,
   "metadata": {},
   "outputs": [
    {
     "name": "stdout",
     "output_type": "stream",
     "text": [
      "\n",
      "Acurácia do Modelo Bagging com SVC sem PCA: 0.9833\n",
      "Acurácia do Modelo Bagging com SVC com PCA: 0.9944\n",
      "\n",
      "Precisão do Modelo Bagging com SVC sem PCA: 0.9827\n",
      "Precisão do Modelo Bagging com SVC com PCA: 0.9947\n",
      "\n",
      "Recall (Sensibilidade) do Modelo Bagging com SVC sem PCA: 0.9835\n",
      "Recall (Sensibilidade) do Modelo Bagging com SVC com PCA: 0.9944\n",
      "\n"
     ]
    }
   ],
   "source": [
    "#métricas\n",
    "print(print_metrics(model_name='Bagging com SVC', y_pred=y_pred_bag, y_test=y_test, y_pred_pca=y_pred_bag_pca, y_test_pca=y_test_pca))"
   ]
  },
  {
   "cell_type": "markdown",
   "metadata": {},
   "source": [
    "#### Bagging com KNN"
   ]
  },
  {
   "cell_type": "code",
   "execution_count": 11,
   "metadata": {},
   "outputs": [],
   "source": [
    "#construindo modelo\n",
    "modeloBaggingKNN = BaggingClassifier(base_estimator=KNeighborsClassifier(n_neighbors=10), n_estimators=100, random_state=10)"
   ]
  },
  {
   "cell_type": "code",
   "execution_count": 12,
   "metadata": {},
   "outputs": [],
   "source": [
    "#modelo sem PCA\n",
    "modeloBaggingKNN.fit(X_train, y_train)\n",
    "y_pred_bag_knn = modeloBaggingKNN.predict(X_test)"
   ]
  },
  {
   "cell_type": "code",
   "execution_count": 13,
   "metadata": {},
   "outputs": [],
   "source": [
    "#modelo com PCA\n",
    "modeloBaggingKNN.fit(X_train_pca, y_train_pca)\n",
    "y_pred_bag_knn_pca = modeloBaggingKNN.predict(X_test_pca)"
   ]
  },
  {
   "cell_type": "code",
   "execution_count": 14,
   "metadata": {},
   "outputs": [
    {
     "name": "stdout",
     "output_type": "stream",
     "text": [
      "\n",
      "Acurácia do Modelo Bagging com KNN sem PCA: 0.9806\n",
      "Acurácia do Modelo Bagging com KNN com PCA: 0.9833\n",
      "\n",
      "Precisão do Modelo Bagging com KNN sem PCA: 0.9806\n",
      "Precisão do Modelo Bagging com KNN com PCA: 0.9833\n",
      "\n",
      "Recall (Sensibilidade) do Modelo Bagging com KNN sem PCA: 0.9797\n",
      "Recall (Sensibilidade) do Modelo Bagging com KNN com PCA: 0.9828\n",
      "\n"
     ]
    }
   ],
   "source": [
    "#métricas\n",
    "print(print_metrics(model_name='Bagging com KNN', y_pred=y_pred_bag_knn, y_test=y_test, y_pred_pca=y_pred_bag_knn_pca, y_test_pca=y_test_pca))"
   ]
  },
  {
   "cell_type": "markdown",
   "metadata": {},
   "source": [
    "### Outras técnicas de Ensemble"
   ]
  },
  {
   "cell_type": "markdown",
   "metadata": {},
   "source": [
    "foi com a Deusa (por hora)"
   ]
  }
 ],
 "metadata": {
  "interpreter": {
   "hash": "0c85a8c794e2ef35fe4da22a5230fa839f732614150129be0b83f468abb08431"
  },
  "kernelspec": {
   "display_name": "Python 3.10.4 ('.projeto2': venv)",
   "language": "python",
   "name": "python3"
  },
  "language_info": {
   "codemirror_mode": {
    "name": "ipython",
    "version": 3
   },
   "file_extension": ".py",
   "mimetype": "text/x-python",
   "name": "python",
   "nbconvert_exporter": "python",
   "pygments_lexer": "ipython3",
   "version": "3.10.4"
  },
  "orig_nbformat": 4
 },
 "nbformat": 4,
 "nbformat_minor": 2
}
