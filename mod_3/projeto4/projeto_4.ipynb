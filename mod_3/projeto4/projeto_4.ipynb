{
  "nbformat": 4,
  "nbformat_minor": 0,
  "metadata": {
    "colab": {
      "name": "Projeto 4 - Análise de Folhas de Videira",
      "provenance": [],
      "authorship_tag": "ABX9TyNJf85b3jrrXSS1TmIi4SLd",
      "include_colab_link": true
    },
    "kernelspec": {
      "name": "python3",
      "display_name": "Python 3"
    },
    "language_info": {
      "name": "python"
    }
  },
  "cells": [
    {
      "cell_type": "markdown",
      "metadata": {
        "id": "view-in-github",
        "colab_type": "text"
      },
      "source": [
        "<a href=\"https://colab.research.google.com/github/joaodath/trilha_dados/blob/main/mod_3/projeto4/projeto_4.ipynb\" target=\"_parent\"><img src=\"https://colab.research.google.com/assets/colab-badge.svg\" alt=\"Open In Colab\"/></a>"
      ]
    },
    {
      "cell_type": "markdown",
      "source": [
        "\n",
        "Projeto 4"
      ],
      "metadata": {
        "id": "NVArL6ZYVsRx"
      }
    },
    {
      "cell_type": "code",
      "execution_count": null,
      "metadata": {
        "id": "yiGS-Fy0VWAU"
      },
      "outputs": [],
      "source": [
        ""
      ]
    }
  ]
}