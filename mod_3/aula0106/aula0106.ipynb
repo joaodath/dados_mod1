{
 "cells": [
  {
   "cell_type": "markdown",
   "metadata": {},
   "source": [
    "# Análise de Sentimento"
   ]
  },
  {
   "cell_type": "markdown",
   "metadata": {},
   "source": [
    "Introdução\n",
    "\n",
    "A análise de sentimento é uma das áreas do Processamento de Linguagem Natural utilizada para compreender sobre a opinião de clientes, usuários e pacientes. Podemos utilizar nas redes sociais, coletando todas as publicações sobre determinada hashtag e realizar uma análise de sentimento para descobrir se os usuários concordam ou não sobre o assunto a qual a hashtag está atrelada. \n",
    "\n",
    "Ao coletar as publicações sobre um grande período de tempo, esta análise permite que se encontrem os momentos na qual houve uma grande aceitação e buscar repetir ou atualizar o evento na qual permitiu que o assunto tivesse uma grande concordância com o público. Por exemplo: uma empresa pode buscar quais foram as publicações sobre um produto X e, a partir das publicações negativas, relançar o produto X novamente mas sobre outra perspectiva ou lançar um produto Y corrigindo os erros do produto anterior.\n",
    "A análise de sentimento é uma ferramenta que auxilia em muito a compreender o público de nosso interesse. Aprenderemos a seguir como fazer essa análise.\n",
    "\n",
    "Usaremos os dados dos comentários publicados pelos usuários do site IMDB traduzidos por Luís Fred e disponibilizado para download pelo Kaggle."
   ]
  },
  {
   "cell_type": "code",
   "execution_count": 1,
   "metadata": {},
   "outputs": [],
   "source": [
    "import numpy as np\n",
    "import pandas as pd\n",
    "\n",
    "import spacy\n",
    "\n",
    "from sklearn.model_selection import train_test_split\n",
    "from sklearn.feature_extraction.text import CountVectorizer\n",
    "from sklearn.metrics import accuracy_score, precision_score, recall_score\n",
    "from sklearn.base import TransformerMixin \n",
    "from sklearn.pipeline import Pipeline\n",
    "from sklearn.svm import SVC\n"
   ]
  },
  {
   "cell_type": "code",
   "execution_count": 2,
   "metadata": {},
   "outputs": [
    {
     "data": {
      "text/html": [
       "<div>\n",
       "<style scoped>\n",
       "    .dataframe tbody tr th:only-of-type {\n",
       "        vertical-align: middle;\n",
       "    }\n",
       "\n",
       "    .dataframe tbody tr th {\n",
       "        vertical-align: top;\n",
       "    }\n",
       "\n",
       "    .dataframe thead th {\n",
       "        text-align: right;\n",
       "    }\n",
       "</style>\n",
       "<table border=\"1\" class=\"dataframe\">\n",
       "  <thead>\n",
       "    <tr style=\"text-align: right;\">\n",
       "      <th></th>\n",
       "      <th>id</th>\n",
       "      <th>text_en</th>\n",
       "      <th>text_pt</th>\n",
       "      <th>sentiment</th>\n",
       "    </tr>\n",
       "  </thead>\n",
       "  <tbody>\n",
       "    <tr>\n",
       "      <th>0</th>\n",
       "      <td>1</td>\n",
       "      <td>Once again Mr. Costner has dragged out a movie...</td>\n",
       "      <td>Mais uma vez, o Sr. Costner arrumou um filme p...</td>\n",
       "      <td>neg</td>\n",
       "    </tr>\n",
       "    <tr>\n",
       "      <th>1</th>\n",
       "      <td>2</td>\n",
       "      <td>This is an example of why the majority of acti...</td>\n",
       "      <td>Este é um exemplo do motivo pelo qual a maiori...</td>\n",
       "      <td>neg</td>\n",
       "    </tr>\n",
       "    <tr>\n",
       "      <th>2</th>\n",
       "      <td>3</td>\n",
       "      <td>First of all I hate those moronic rappers, who...</td>\n",
       "      <td>Primeiro de tudo eu odeio esses raps imbecis, ...</td>\n",
       "      <td>neg</td>\n",
       "    </tr>\n",
       "    <tr>\n",
       "      <th>3</th>\n",
       "      <td>4</td>\n",
       "      <td>Not even the Beatles could write songs everyon...</td>\n",
       "      <td>Nem mesmo os Beatles puderam escrever músicas ...</td>\n",
       "      <td>neg</td>\n",
       "    </tr>\n",
       "    <tr>\n",
       "      <th>4</th>\n",
       "      <td>5</td>\n",
       "      <td>Brass pictures movies is not a fitting word fo...</td>\n",
       "      <td>Filmes de fotos de latão não é uma palavra apr...</td>\n",
       "      <td>neg</td>\n",
       "    </tr>\n",
       "  </tbody>\n",
       "</table>\n",
       "</div>"
      ],
      "text/plain": [
       "   id                                            text_en  \\\n",
       "0   1  Once again Mr. Costner has dragged out a movie...   \n",
       "1   2  This is an example of why the majority of acti...   \n",
       "2   3  First of all I hate those moronic rappers, who...   \n",
       "3   4  Not even the Beatles could write songs everyon...   \n",
       "4   5  Brass pictures movies is not a fitting word fo...   \n",
       "\n",
       "                                             text_pt sentiment  \n",
       "0  Mais uma vez, o Sr. Costner arrumou um filme p...       neg  \n",
       "1  Este é um exemplo do motivo pelo qual a maiori...       neg  \n",
       "2  Primeiro de tudo eu odeio esses raps imbecis, ...       neg  \n",
       "3  Nem mesmo os Beatles puderam escrever músicas ...       neg  \n",
       "4  Filmes de fotos de latão não é uma palavra apr...       neg  "
      ]
     },
     "execution_count": 2,
     "metadata": {},
     "output_type": "execute_result"
    }
   ],
   "source": [
    "imdb = pd.read_csv('imdb-reviews-pt-br.csv')\n",
    "imdb.head()"
   ]
  },
  {
   "cell_type": "markdown",
   "metadata": {},
   "source": [
    "Faremos um pequeno teste para validar o nosso pré-processamento que usaremos para preparar o conjunto de dados.\n"
   ]
  },
  {
   "cell_type": "code",
   "execution_count": 3,
   "metadata": {},
   "outputs": [
    {
     "name": "stdout",
     "output_type": "stream",
     "text": [
      "--------------\n",
      "Texto original\n",
      "Mais uma vez, o Sr. Costner arrumou um filme por muito mais tempo do que o necessário. Além das terríveis seqüências de resgate no mar, das quais há muito poucas, eu simplesmente não me importei com nenhum dos personagens. A maioria de nós tem fantasmas no armário, e o personagem Costers é realizado logo no início, e depois esquecido até muito mais tarde, quando eu não me importava. O personagem com o qual deveríamos nos importar é muito arrogante e superconfiante, Ashton Kutcher. O problema é que ele sai como um garoto que pensa que é melhor do que qualquer outra pessoa ao seu redor e não mostra sinais de um armário desordenado. Seu único obstáculo parece estar vencendo Costner. Finalmente, quando estamos bem além do meio do caminho, Costner nos conta sobre os fantasmas dos Kutchers. Somos informados de por que Kutcher é levado a ser o melhor sem pressentimentos ou presságios anteriores. Nenhuma mágica aqui, era tudo que eu podia fazer para não desligar uma hora.\n",
      "--------------\n",
      "Remoção de stopwords e pontuação\n",
      "[Sr., Costner, arrumou, filme, necessário, terríveis, seqüências, resgate, mar, há, poucas, simplesmente, importei, nenhum, personagens, fantasmas, armário, personagem, Costers, realizado, início, esquecido, importava, personagem, deveríamos, importar, arrogante, superconfiante, Ashton, Kutcher, problema, sai, garoto, pensa, melhor, pessoa, redor, mostra, sinais, armário, desordenado, único, obstáculo, vencendo, Costner, Finalmente, estamos, Costner, conta, fantasmas, Kutchers, informados, Kutcher, levado, melhor, pressentimentos, presságios, anteriores, mágica, desligar, hora]\n",
      "--------------\n",
      "Lemmatization\n",
      "['sr.', 'costner', 'arrumar', 'filme', 'necessário', 'terrível', 'seqüência', 'resgate', 'mar', 'haver', 'pouco', 'simplesmente', 'importar', 'nenhum', 'personagem', 'fantasma', 'armário', 'personagem', 'costers', 'realizar', 'início', 'esquecer', 'importar', 'personagem', 'deveríamos', 'importar', 'arrogante', 'superconfiante', 'ashton', 'kutcher', 'problema', 'sair', 'garoto', 'pensar', 'bom', 'pessoa', 'redor', 'mostrar', 'sinal', 'armário', 'desordenado', 'único', 'obstáculo', 'vencer', 'costner', 'finalmente', 'estar', 'costner', 'conta', 'fantasma', 'kutchers', 'informar', 'kutcher', 'levar', 'bom', 'pressentimento', 'presságio', 'anterior', 'mágico', 'desligar', 'hora']\n"
     ]
    }
   ],
   "source": [
    "nlp = spacy.load('pt_core_news_lg')\n",
    "\n",
    "texto = imdb.text_pt[0]\n",
    "\n",
    "print('--------------')\n",
    "print('Texto original')\n",
    "print(texto)\n",
    "\n",
    "doc = nlp(texto)\n",
    "tokens_filtrado = [token for token in doc if ((not token.is_stop) & (not token.is_punct))]\n",
    "\n",
    "print('--------------')\n",
    "print('Remoção de stopwords e pontuação')\n",
    "print(tokens_filtrado)\n",
    "\n",
    "lemmas = [token.lemma_.lower().strip() for token in tokens_filtrado]\n",
    "\n",
    "print('--------------')\n",
    "print('Lemmatization')\n",
    "print(lemmas)"
   ]
  },
  {
   "cell_type": "markdown",
   "metadata": {},
   "source": [
    "Iremos, a partir de agora, criar as funções que usaremos para montar um pipeline para realizar o pré-processamento, ajuste do modelo e a predição."
   ]
  },
  {
   "cell_type": "code",
   "execution_count": 4,
   "metadata": {},
   "outputs": [],
   "source": [
    "# Criamos uma classe para gerenciar X e y\n",
    "class predictors(TransformerMixin):\n",
    "    def transform(self, X, **transform_params):\n",
    "        return [clean_text(text) for text in X]\n",
    "    def fit(self, X, y=None, **fit_params):\n",
    "        return self\n",
    "    def get_params(self, deep=True):\n",
    "        return {}\n",
    "\n",
    "# Esta funcao remove espacos em branco no inicio e\n",
    "# no fim do texto e converte todo o texto em letras\n",
    "# minusculas\n",
    "def clean_text(texto):     \n",
    "    return texto.strip().lower()\n",
    "\n",
    "# Esta funcao remove todas as stopwords e pontuacoes\n",
    "def tokenizer(texto):\n",
    "    doc = nlp(texto)\n",
    "    tokens = [token for token in doc if ((not token.is_stop) & (not token.is_punct))]\n",
    "    tokens = [token.lemma_.lower().strip() for token in tokens]\n",
    "    return tokens\n",
    "\n",
    "# Criamos um objeto CountVectorizer para vetorizar cada\n",
    "# texto\n",
    "vectorizer = CountVectorizer(tokenizer = tokenizer, ngram_range=(1,1)) \n",
    "\n",
    "# Criamos um modelo SVM\n",
    "classifier = SVC()"
   ]
  },
  {
   "cell_type": "markdown",
   "metadata": {},
   "source": [
    "**CountVectorizer:** Esta função é usada para transformar o texto em vetores de valores numéricos. Estes vetores podem ser acessados pelo modelo mais rapidamente do que o texto.\n",
    "\n",
    "O modelo levará alguns minutos para treinar, não se preocupe. Um ponto a levar em consideração ao trabalhar com textos é que com poucos textos será exigido uma grande quantidade de processamento e memória."
   ]
  },
  {
   "cell_type": "code",
   "execution_count": 5,
   "metadata": {},
   "outputs": [
    {
     "name": "stdout",
     "output_type": "stream",
     "text": [
      "0.881\n",
      "0.882\n",
      "0.882\n"
     ]
    }
   ],
   "source": [
    "# Separando em X e y\n",
    "X = imdb.text_pt\n",
    "y = imdb.sentiment\n",
    "\n",
    "# Separando em teste e treino\n",
    "X_train, X_test, y_train, y_test = train_test_split(X, y, test_size=0.2, random_state=10)\n",
    "\n",
    "# Construindo uma pipeline\n",
    "pipe = Pipeline([(\"cleaner\", predictors()),\n",
    "                 ('vectorizer', vectorizer),\n",
    "                 ('classifier', classifier)])\n",
    "\n",
    "pipe.fit(X_train,y_train)\n",
    "\n",
    "y_pred = pipe.predict(X_test)\n",
    "\n",
    "print(round(accuracy_score(y_test, y_pred), 3))\n",
    "print(round(precision_score(y_test, y_pred, average='macro'), 3))\n",
    "print(round(recall_score(y_test, y_pred, average='macro'), 3))"
   ]
  }
 ],
 "metadata": {
  "interpreter": {
   "hash": "0c85a8c794e2ef35fe4da22a5230fa839f732614150129be0b83f468abb08431"
  },
  "kernelspec": {
   "display_name": "Python 3.10.4 ('.projeto2': venv)",
   "language": "python",
   "name": "python3"
  },
  "language_info": {
   "codemirror_mode": {
    "name": "ipython",
    "version": 3
   },
   "file_extension": ".py",
   "mimetype": "text/x-python",
   "name": "python",
   "nbconvert_exporter": "python",
   "pygments_lexer": "ipython3",
   "version": "3.10.4"
  },
  "orig_nbformat": 4
 },
 "nbformat": 4,
 "nbformat_minor": 2
}
