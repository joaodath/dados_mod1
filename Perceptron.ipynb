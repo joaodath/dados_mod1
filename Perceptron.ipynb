{
  "nbformat": 4,
  "nbformat_minor": 0,
  "metadata": {
    "colab": {
      "name": "Perceptron",
      "provenance": [],
      "authorship_tag": "ABX9TyPZoB0Rrmwk/v8AXIcIS0TS",
      "include_colab_link": true
    },
    "kernelspec": {
      "name": "python3",
      "display_name": "Python 3"
    },
    "language_info": {
      "name": "python"
    },
    "accelerator": "TPU"
  },
  "cells": [
    {
      "cell_type": "markdown",
      "metadata": {
        "id": "view-in-github",
        "colab_type": "text"
      },
      "source": [
        "<a href=\"https://colab.research.google.com/github/joaodath/trilha_dados/blob/main/Perceptron.ipynb\" target=\"_parent\"><img src=\"https://colab.research.google.com/assets/colab-badge.svg\" alt=\"Open In Colab\"/></a>"
      ]
    },
    {
      "cell_type": "markdown",
      "source": [
        "[Aula 16 - Introdução ao DeepLearning](https://blueedtech.gitbook.io/modulo-3-dados/4a-semana/aula_19#2-perceptron)"
      ],
      "metadata": {
        "id": "H97FrkKKATib"
      }
    },
    {
      "cell_type": "code",
      "source": [
        "# instalando e atualizando bibliotecas\n",
        "\n",
        "%pip install -U pandas numpy sklearn"
      ],
      "metadata": {
        "colab": {
          "base_uri": "https://localhost:8080/"
        },
        "id": "hLo9zuHgz5_0",
        "outputId": "9a3d58a2-eafd-4c44-a999-190880d7ff7c"
      },
      "execution_count": 1,
      "outputs": [
        {
          "output_type": "stream",
          "name": "stdout",
          "text": [
            "Looking in indexes: https://pypi.org/simple, https://us-python.pkg.dev/colab-wheels/public/simple/\n",
            "Requirement already satisfied: pandas in /usr/local/lib/python3.7/dist-packages (1.3.5)\n",
            "Requirement already satisfied: numpy in /usr/local/lib/python3.7/dist-packages (1.21.6)\n",
            "Requirement already satisfied: sklearn in /usr/local/lib/python3.7/dist-packages (0.0)\n",
            "Requirement already satisfied: pytz>=2017.3 in /usr/local/lib/python3.7/dist-packages (from pandas) (2022.1)\n",
            "Requirement already satisfied: python-dateutil>=2.7.3 in /usr/local/lib/python3.7/dist-packages (from pandas) (2.8.2)\n",
            "Requirement already satisfied: six>=1.5 in /usr/local/lib/python3.7/dist-packages (from python-dateutil>=2.7.3->pandas) (1.15.0)\n",
            "Requirement already satisfied: scikit-learn in /usr/local/lib/python3.7/dist-packages (from sklearn) (1.0.2)\n",
            "Requirement already satisfied: scipy>=1.1.0 in /usr/local/lib/python3.7/dist-packages (from scikit-learn->sklearn) (1.4.1)\n",
            "Requirement already satisfied: threadpoolctl>=2.0.0 in /usr/local/lib/python3.7/dist-packages (from scikit-learn->sklearn) (3.1.0)\n",
            "Requirement already satisfied: joblib>=0.11 in /usr/local/lib/python3.7/dist-packages (from scikit-learn->sklearn) (1.1.0)\n"
          ]
        }
      ]
    },
    {
      "cell_type": "code",
      "execution_count": 6,
      "metadata": {
        "id": "_bKqN9xerTTA"
      },
      "outputs": [],
      "source": [
        "#importando bibliotecas\n",
        "\n",
        "import pandas as pd\n",
        "import numpy as np\n",
        "from sklearn.model_selection import train_test_split\n",
        "from sklearn.datasets import load_breast_cancer\n",
        "\n",
        "from tensorflow import keras\n",
        "\n"
      ]
    },
    {
      "cell_type": "code",
      "source": [
        "# dataset source: https://www.kaggle.com/datasets/rashikrahmanpritom/heart-attack-analysis-prediction-dataset?resource=download\n",
        "data = pd.read_csv('/content/heart.csv')\n",
        "data.head()"
      ],
      "metadata": {
        "colab": {
          "base_uri": "https://localhost:8080/",
          "height": 206
        },
        "id": "hmjifdXG0J2D",
        "outputId": "f60b457d-43bf-4726-bfc5-fd293810f5b7"
      },
      "execution_count": 5,
      "outputs": [
        {
          "output_type": "execute_result",
          "data": {
            "text/plain": [
              "   age  sex  cp  trtbps  chol  fbs  restecg  thalachh  exng  oldpeak  slp  \\\n",
              "0   63    1   3     145   233    1        0       150     0      2.3    0   \n",
              "1   37    1   2     130   250    0        1       187     0      3.5    0   \n",
              "2   41    0   1     130   204    0        0       172     0      1.4    2   \n",
              "3   56    1   1     120   236    0        1       178     0      0.8    2   \n",
              "4   57    0   0     120   354    0        1       163     1      0.6    2   \n",
              "\n",
              "   caa  thall  output  \n",
              "0    0      1       1  \n",
              "1    0      2       1  \n",
              "2    0      2       1  \n",
              "3    0      2       1  \n",
              "4    0      2       1  "
            ],
            "text/html": [
              "\n",
              "  <div id=\"df-b368217f-25b1-423c-9190-07cb0535bf15\">\n",
              "    <div class=\"colab-df-container\">\n",
              "      <div>\n",
              "<style scoped>\n",
              "    .dataframe tbody tr th:only-of-type {\n",
              "        vertical-align: middle;\n",
              "    }\n",
              "\n",
              "    .dataframe tbody tr th {\n",
              "        vertical-align: top;\n",
              "    }\n",
              "\n",
              "    .dataframe thead th {\n",
              "        text-align: right;\n",
              "    }\n",
              "</style>\n",
              "<table border=\"1\" class=\"dataframe\">\n",
              "  <thead>\n",
              "    <tr style=\"text-align: right;\">\n",
              "      <th></th>\n",
              "      <th>age</th>\n",
              "      <th>sex</th>\n",
              "      <th>cp</th>\n",
              "      <th>trtbps</th>\n",
              "      <th>chol</th>\n",
              "      <th>fbs</th>\n",
              "      <th>restecg</th>\n",
              "      <th>thalachh</th>\n",
              "      <th>exng</th>\n",
              "      <th>oldpeak</th>\n",
              "      <th>slp</th>\n",
              "      <th>caa</th>\n",
              "      <th>thall</th>\n",
              "      <th>output</th>\n",
              "    </tr>\n",
              "  </thead>\n",
              "  <tbody>\n",
              "    <tr>\n",
              "      <th>0</th>\n",
              "      <td>63</td>\n",
              "      <td>1</td>\n",
              "      <td>3</td>\n",
              "      <td>145</td>\n",
              "      <td>233</td>\n",
              "      <td>1</td>\n",
              "      <td>0</td>\n",
              "      <td>150</td>\n",
              "      <td>0</td>\n",
              "      <td>2.3</td>\n",
              "      <td>0</td>\n",
              "      <td>0</td>\n",
              "      <td>1</td>\n",
              "      <td>1</td>\n",
              "    </tr>\n",
              "    <tr>\n",
              "      <th>1</th>\n",
              "      <td>37</td>\n",
              "      <td>1</td>\n",
              "      <td>2</td>\n",
              "      <td>130</td>\n",
              "      <td>250</td>\n",
              "      <td>0</td>\n",
              "      <td>1</td>\n",
              "      <td>187</td>\n",
              "      <td>0</td>\n",
              "      <td>3.5</td>\n",
              "      <td>0</td>\n",
              "      <td>0</td>\n",
              "      <td>2</td>\n",
              "      <td>1</td>\n",
              "    </tr>\n",
              "    <tr>\n",
              "      <th>2</th>\n",
              "      <td>41</td>\n",
              "      <td>0</td>\n",
              "      <td>1</td>\n",
              "      <td>130</td>\n",
              "      <td>204</td>\n",
              "      <td>0</td>\n",
              "      <td>0</td>\n",
              "      <td>172</td>\n",
              "      <td>0</td>\n",
              "      <td>1.4</td>\n",
              "      <td>2</td>\n",
              "      <td>0</td>\n",
              "      <td>2</td>\n",
              "      <td>1</td>\n",
              "    </tr>\n",
              "    <tr>\n",
              "      <th>3</th>\n",
              "      <td>56</td>\n",
              "      <td>1</td>\n",
              "      <td>1</td>\n",
              "      <td>120</td>\n",
              "      <td>236</td>\n",
              "      <td>0</td>\n",
              "      <td>1</td>\n",
              "      <td>178</td>\n",
              "      <td>0</td>\n",
              "      <td>0.8</td>\n",
              "      <td>2</td>\n",
              "      <td>0</td>\n",
              "      <td>2</td>\n",
              "      <td>1</td>\n",
              "    </tr>\n",
              "    <tr>\n",
              "      <th>4</th>\n",
              "      <td>57</td>\n",
              "      <td>0</td>\n",
              "      <td>0</td>\n",
              "      <td>120</td>\n",
              "      <td>354</td>\n",
              "      <td>0</td>\n",
              "      <td>1</td>\n",
              "      <td>163</td>\n",
              "      <td>1</td>\n",
              "      <td>0.6</td>\n",
              "      <td>2</td>\n",
              "      <td>0</td>\n",
              "      <td>2</td>\n",
              "      <td>1</td>\n",
              "    </tr>\n",
              "  </tbody>\n",
              "</table>\n",
              "</div>\n",
              "      <button class=\"colab-df-convert\" onclick=\"convertToInteractive('df-b368217f-25b1-423c-9190-07cb0535bf15')\"\n",
              "              title=\"Convert this dataframe to an interactive table.\"\n",
              "              style=\"display:none;\">\n",
              "        \n",
              "  <svg xmlns=\"http://www.w3.org/2000/svg\" height=\"24px\"viewBox=\"0 0 24 24\"\n",
              "       width=\"24px\">\n",
              "    <path d=\"M0 0h24v24H0V0z\" fill=\"none\"/>\n",
              "    <path d=\"M18.56 5.44l.94 2.06.94-2.06 2.06-.94-2.06-.94-.94-2.06-.94 2.06-2.06.94zm-11 1L8.5 8.5l.94-2.06 2.06-.94-2.06-.94L8.5 2.5l-.94 2.06-2.06.94zm10 10l.94 2.06.94-2.06 2.06-.94-2.06-.94-.94-2.06-.94 2.06-2.06.94z\"/><path d=\"M17.41 7.96l-1.37-1.37c-.4-.4-.92-.59-1.43-.59-.52 0-1.04.2-1.43.59L10.3 9.45l-7.72 7.72c-.78.78-.78 2.05 0 2.83L4 21.41c.39.39.9.59 1.41.59.51 0 1.02-.2 1.41-.59l7.78-7.78 2.81-2.81c.8-.78.8-2.07 0-2.86zM5.41 20L4 18.59l7.72-7.72 1.47 1.35L5.41 20z\"/>\n",
              "  </svg>\n",
              "      </button>\n",
              "      \n",
              "  <style>\n",
              "    .colab-df-container {\n",
              "      display:flex;\n",
              "      flex-wrap:wrap;\n",
              "      gap: 12px;\n",
              "    }\n",
              "\n",
              "    .colab-df-convert {\n",
              "      background-color: #E8F0FE;\n",
              "      border: none;\n",
              "      border-radius: 50%;\n",
              "      cursor: pointer;\n",
              "      display: none;\n",
              "      fill: #1967D2;\n",
              "      height: 32px;\n",
              "      padding: 0 0 0 0;\n",
              "      width: 32px;\n",
              "    }\n",
              "\n",
              "    .colab-df-convert:hover {\n",
              "      background-color: #E2EBFA;\n",
              "      box-shadow: 0px 1px 2px rgba(60, 64, 67, 0.3), 0px 1px 3px 1px rgba(60, 64, 67, 0.15);\n",
              "      fill: #174EA6;\n",
              "    }\n",
              "\n",
              "    [theme=dark] .colab-df-convert {\n",
              "      background-color: #3B4455;\n",
              "      fill: #D2E3FC;\n",
              "    }\n",
              "\n",
              "    [theme=dark] .colab-df-convert:hover {\n",
              "      background-color: #434B5C;\n",
              "      box-shadow: 0px 1px 3px 1px rgba(0, 0, 0, 0.15);\n",
              "      filter: drop-shadow(0px 1px 2px rgba(0, 0, 0, 0.3));\n",
              "      fill: #FFFFFF;\n",
              "    }\n",
              "  </style>\n",
              "\n",
              "      <script>\n",
              "        const buttonEl =\n",
              "          document.querySelector('#df-b368217f-25b1-423c-9190-07cb0535bf15 button.colab-df-convert');\n",
              "        buttonEl.style.display =\n",
              "          google.colab.kernel.accessAllowed ? 'block' : 'none';\n",
              "\n",
              "        async function convertToInteractive(key) {\n",
              "          const element = document.querySelector('#df-b368217f-25b1-423c-9190-07cb0535bf15');\n",
              "          const dataTable =\n",
              "            await google.colab.kernel.invokeFunction('convertToInteractive',\n",
              "                                                     [key], {});\n",
              "          if (!dataTable) return;\n",
              "\n",
              "          const docLinkHtml = 'Like what you see? Visit the ' +\n",
              "            '<a target=\"_blank\" href=https://colab.research.google.com/notebooks/data_table.ipynb>data table notebook</a>'\n",
              "            + ' to learn more about interactive tables.';\n",
              "          element.innerHTML = '';\n",
              "          dataTable['output_type'] = 'display_data';\n",
              "          await google.colab.output.renderOutput(dataTable, element);\n",
              "          const docLink = document.createElement('div');\n",
              "          docLink.innerHTML = docLinkHtml;\n",
              "          element.appendChild(docLink);\n",
              "        }\n",
              "      </script>\n",
              "    </div>\n",
              "  </div>\n",
              "  "
            ]
          },
          "metadata": {},
          "execution_count": 5
        }
      ]
    },
    {
      "cell_type": "code",
      "source": [
        "X = data.drop('output', axis=1)\n",
        "y = data['output']\n",
        "\n",
        "X_train, X_test, y_train, y_test = train_test_split(X, y, test_size=0.2, random_state=42, shuffle=True)"
      ],
      "metadata": {
        "id": "ZSOYmwJ30eQ1"
      },
      "execution_count": 8,
      "outputs": []
    },
    {
      "cell_type": "code",
      "source": [
        "data['output'].value_counts()"
      ],
      "metadata": {
        "colab": {
          "base_uri": "https://localhost:8080/"
        },
        "id": "9v3ZKTHj4XXf",
        "outputId": "0423dca5-549d-437a-c47e-dfbc23b3ad2a"
      },
      "execution_count": 14,
      "outputs": [
        {
          "output_type": "execute_result",
          "data": {
            "text/plain": [
              "1    165\n",
              "0    138\n",
              "Name: output, dtype: int64"
            ]
          },
          "metadata": {},
          "execution_count": 14
        }
      ]
    },
    {
      "cell_type": "markdown",
      "source": [
        "Considerando o dataset Heart Attack Analysis & Prediction Dataset, construa uma rede Perceptron que tenha a mesma quantidade de classes como neurônios na sua camada de saída. Treine esta rede por 100 épocas e obtenha a acurácia de teste. Para o treinamento faça um split no conjunto para que 80% do conjunto inicial seja treinamento e utilize um batch size de 10 com função de ativação ReLU."
      ],
      "metadata": {
        "id": "LZ0ikJaG1iGc"
      }
    },
    {
      "cell_type": "markdown",
      "source": [
        "Aqui, definimos a sequência na estruturação do modelo:\n",
        "\n",
        "criação da estruturas (sequential)\n",
        "\n",
        "conferência da estrutura (summary)\n",
        "\n",
        "definição das métricas (metrics)\n",
        "\n",
        "geração da rede (compile)"
      ],
      "metadata": {
        "id": "n5gTahlt156K"
      }
    },
    {
      "cell_type": "code",
      "source": [
        "# criando o modelo Perceptron\n",
        "from tensorflow import keras\n",
        "\n",
        "model1 = keras.Sequential(\n",
        "    [\n",
        "        #camada densa indica neurônios totalmente conectados (quantidade, ativação, formato da entrada)\n",
        "        keras.layers.Dense(X_train.shape[1], activation=\"relu\", input_shape=(X_train.shape[1],)),\n",
        "        keras.layers.Dense(1, activation=\"sigmoid\"),\n",
        "    ]\n",
        ")\n",
        "\n",
        "# a primeira camada possui 182 parâmetros: X referentes a w (13 atributos e 13 pesos) e 13 referentes ao bias\n",
        "# a segunda camada possui 14 parâmetros : 13 referentes a w e 1 referente ao bias\n",
        "model1.summary()"
      ],
      "metadata": {
        "colab": {
          "base_uri": "https://localhost:8080/"
        },
        "id": "WN3Bl7s41Uwl",
        "outputId": "618aeb28-c999-411e-db6b-02d4ccebb92e"
      },
      "execution_count": 10,
      "outputs": [
        {
          "output_type": "stream",
          "name": "stdout",
          "text": [
            "Model: \"sequential_1\"\n",
            "_________________________________________________________________\n",
            " Layer (type)                Output Shape              Param #   \n",
            "=================================================================\n",
            " dense_2 (Dense)             (None, 13)                182       \n",
            "                                                                 \n",
            " dense_3 (Dense)             (None, 1)                 14        \n",
            "                                                                 \n",
            "=================================================================\n",
            "Total params: 196\n",
            "Trainable params: 196\n",
            "Non-trainable params: 0\n",
            "_________________________________________________________________\n"
          ]
        }
      ]
    },
    {
      "cell_type": "code",
      "source": [
        "#definindo as métricas de avaliação e treinando o modelo\n",
        "metrics = [\n",
        "    keras.metrics.FalseNegatives(name=\"fn\"),\n",
        "    keras.metrics.FalsePositives(name=\"fp\"),\n",
        "    keras.metrics.TrueNegatives(name=\"tn\"),\n",
        "    keras.metrics.TruePositives(name=\"tp\")\n",
        "]\n",
        "\n",
        "model1.compile(loss=\"binary_crossentropy\", metrics=['accuracy'])"
      ],
      "metadata": {
        "id": "9E0HZmqH2H8F"
      },
      "execution_count": 40,
      "outputs": []
    },
    {
      "cell_type": "code",
      "source": [
        "history1 = model1.fit(X_train, y_train, batch_size=10, epochs=100, verbose=False)"
      ],
      "metadata": {
        "id": "ldJbEESG2M1n"
      },
      "execution_count": 42,
      "outputs": []
    },
    {
      "cell_type": "code",
      "source": [
        "score = model1.evaluate(X_test, y_test)\n",
        "score"
      ],
      "metadata": {
        "colab": {
          "base_uri": "https://localhost:8080/"
        },
        "id": "tLzoEJK-_Det",
        "outputId": "9dd49ec2-3ccc-40c0-b235-87b1781be65f"
      },
      "execution_count": 43,
      "outputs": [
        {
          "output_type": "stream",
          "name": "stdout",
          "text": [
            "2/2 [==============================] - 0s 8ms/step - loss: 0.7449 - accuracy: 0.7377\n"
          ]
        },
        {
          "output_type": "execute_result",
          "data": {
            "text/plain": [
              "[0.7449199557304382, 0.7377049326896667]"
            ]
          },
          "metadata": {},
          "execution_count": 43
        }
      ]
    },
    {
      "cell_type": "code",
      "source": [
        "history2 = model1.fit(X_train, y_train, batch_size=5, epochs=150, verbose=False)"
      ],
      "metadata": {
        "id": "FppNJd-C-u3R"
      },
      "execution_count": 44,
      "outputs": []
    },
    {
      "cell_type": "code",
      "source": [
        "score = model1.evaluate(X_test, y_test)\n",
        "score\n"
      ],
      "metadata": {
        "colab": {
          "base_uri": "https://localhost:8080/"
        },
        "id": "w4ISaKP5_AVe",
        "outputId": "cea7fe1b-0607-44cd-c2c7-ebc9c8cf7622"
      },
      "execution_count": 45,
      "outputs": [
        {
          "output_type": "stream",
          "name": "stdout",
          "text": [
            "2/2 [==============================] - 0s 5ms/step - loss: 0.4666 - accuracy: 0.8361\n"
          ]
        },
        {
          "output_type": "execute_result",
          "data": {
            "text/plain": [
              "[0.46662575006484985, 0.8360655903816223]"
            ]
          },
          "metadata": {},
          "execution_count": 45
        }
      ]
    },
    {
      "cell_type": "code",
      "source": [
        "# visualizando a convergência da rede durante o treinamento\n",
        "import matplotlib.pyplot as plt\n",
        "plt.plot(history1.history[\"loss\"])\n",
        "plt.title(\"model loss\")\n",
        "plt.ylabel(\"loss\")\n",
        "plt.xlabel(\"epoch\")\n",
        "plt.show()"
      ],
      "metadata": {
        "colab": {
          "base_uri": "https://localhost:8080/",
          "height": 295
        },
        "id": "1hv2pmP12U_J",
        "outputId": "754d0248-9a4d-40b8-f759-5e2d859100e5"
      },
      "execution_count": 13,
      "outputs": [
        {
          "output_type": "display_data",
          "data": {
            "text/plain": [
              "<Figure size 432x288 with 1 Axes>"
            ],
            "image/png": "[encoded data removed]"
          },
          "metadata": {
            "needs_background": "light"
          }
        }
      ]
    },
    {
      "cell_type": "markdown",
      "source": [
        "1.a) Para este conjunto de dados e modelo, a função de perda (loss) se mantém instável."
      ],
      "metadata": {
        "id": "SdMJ5Llt28LG"
      }
    },
    {
      "cell_type": "markdown",
      "source": [
        "Varie a configuração do modelo (batch size e quantidade de épocas) e verifique se a performance melhora ou piora."
      ],
      "metadata": {
        "id": "ktINRP-k3939"
      }
    },
    {
      "cell_type": "code",
      "source": [
        "## code source: https://www.kaggle.com/code/shujunge/gridsearchcv-with-keras/notebook\n",
        "## doc on gridsearchcv: https://scikit-learn.org/stable/modules/generated/sklearn.model_selection.GridSearchCV.html\n",
        "## todo: adapt: https://github.com/adriangb/scikeras\n",
        "# def create_model(optimizer='rmsprop', init='glorot_uniform'):\n",
        "#     model = Sequential()\n",
        "#     model.add(Dense(512, input_shape=(784,)))\n",
        "#     model.add(Activation('relu')) # An \"activation\" is just a non-linear function applied to the output\n",
        "#     model.add(Dropout(0.2))   # Dropout helps protect the model from memorizing or \"overfitting\" the training data\n",
        "#     model.add(Dense(512,init=init))\n",
        "#     model.add(Activation('relu'))\n",
        "#     model.add(Dropout(0.2))\n",
        "#     model.add(Dense(10,init=init))\n",
        "#     model.add(Activation('softmax')) # This special \"softmax\" a\n",
        "#     model.compile(loss='binary_crossentropy', optimizer=optimizer, metrics=['accuracy']) \n",
        "#     return model\n",
        "# from keras.wrappers.scikit_learn import KerasClassifier\n",
        "# from sklearn.grid_search import GridSearchCV\n",
        "# start=time()\n",
        "# model = KerasClassifier(build_fn=create_model)\n",
        "# optimizers = ['rmsprop', 'adam']\n",
        "# init = ['glorot_uniform', 'normal', 'uniform']\n",
        "# epochs = np.array([50, 100, 150])\n",
        "# batches = np.array([5, 10, 20])\n",
        "# param_grid = dict(optimizer=optimizers, nb_epoch=epochs, batch_size=batches, init=init)\n",
        "# grid = GridSearchCV(estimator=model, param_grid=param_grid)\n",
        "# grid_result = grid.fit(X_train, Y_train)\n",
        "# print(\"Best: %f using %s\" % (grid_result.best_score_, grid_result.best_params_))\n",
        "# for params, mean_score, scores in grid_result.grid_scores_:\n",
        "#     print(\"%f (%f) with: %r\" % (scores.mean(), scores.std(), params))\n",
        "# print(\"total time:\",time()-start)"
      ],
      "metadata": {
        "id": "S18Zm36O39WC"
      },
      "execution_count": null,
      "outputs": []
    },
    {
      "cell_type": "code",
      "source": [
        "def create_model():\n",
        "  model = keras.Sequential(\n",
        "      [\n",
        "          #camada densa indica neurônios totalmente conectados (quantidade, ativação, formato da entrada)\n",
        "          keras.layers.Dense(13, activation=\"relu\", input_shape=(13,)),\n",
        "          keras.layers.Dense(1, activation=\"sigmoid\"),\n",
        "      ]\n",
        "    )\n",
        "  # metrics = [\n",
        "  #   keras.metrics.FalseNegatives(name=\"fn\"),\n",
        "  #   keras.metrics.FalsePositives(name=\"fp\"),\n",
        "  #   keras.metrics.TrueNegatives(name=\"tn\"),\n",
        "  #   keras.metrics.TruePositives(name=\"tp\")\n",
        "  #   ]\n",
        "\n",
        "  model.compile(loss=\"binary_crossentropy\", metrics=['accuracy'])\n",
        "  return model"
      ],
      "metadata": {
        "id": "db-FcaAo5nyN"
      },
      "execution_count": 17,
      "outputs": []
    },
    {
      "cell_type": "code",
      "source": [
        "from keras.wrappers.scikit_learn import KerasClassifier\n",
        "from sklearn.model_selection import GridSearchCV"
      ],
      "metadata": {
        "id": "lHZZIO0f6RXs"
      },
      "execution_count": 18,
      "outputs": []
    },
    {
      "cell_type": "code",
      "source": [
        "model = KerasClassifier(build_fn=create_model)\n",
        "epochs = np.array([10, 50, 100, 150, 300])\n",
        "batches = np.array([5, 10, 20, 30])\n",
        "param_grid = dict(nb_epoch=epochs, batch_size=batches)\n",
        "grid = GridSearchCV(estimator=model, param_grid=param_grid)\n",
        "\n"
      ],
      "metadata": {
        "colab": {
          "base_uri": "https://localhost:8080/"
        },
        "id": "emm-cRMa6URj",
        "outputId": "f3108921-68a5-4fa2-e7dc-fdf464d1dee4"
      },
      "execution_count": 34,
      "outputs": [
        {
          "output_type": "stream",
          "name": "stderr",
          "text": [
            "/usr/local/lib/python3.7/dist-packages/ipykernel_launcher.py:1: DeprecationWarning: KerasClassifier is deprecated, use Sci-Keras (https://github.com/adriangb/scikeras) instead. See https://www.adriangb.com/scikeras/stable/migration.html for help migrating.\n",
            "  \"\"\"Entry point for launching an IPython kernel.\n"
          ]
        }
      ]
    },
    {
      "cell_type": "code",
      "source": [
        "grid_result = grid.fit(X_train, y_train)\n",
        "\n"
      ],
      "metadata": {
        "colab": {
          "base_uri": "https://localhost:8080/"
        },
        "id": "kUNiG05y69oR",
        "outputId": "e78cef4f-217f-445a-fb26-36efb60109ba"
      },
      "execution_count": 35,
      "outputs": [
        {
          "output_type": "stream",
          "name": "stdout",
          "text": [
            "39/39 [==============================] - 1s 2ms/step - loss: 40.1658 - accuracy: 0.5181\n",
            "10/10 [==============================] - 0s 3ms/step - loss: 10.8789 - accuracy: 0.6735\n",
            "39/39 [==============================] - 1s 2ms/step - loss: 10.5707 - accuracy: 0.5130\n",
            "10/10 [==============================] - 0s 2ms/step - loss: 9.5277 - accuracy: 0.3265\n",
            "39/39 [==============================] - 1s 2ms/step - loss: 7.5924 - accuracy: 0.3711\n",
            "10/10 [==============================] - 0s 3ms/step - loss: 6.2719 - accuracy: 0.3333\n",
            "39/39 [==============================] - 1s 2ms/step - loss: 33.5377 - accuracy: 0.5567\n",
            "10/10 [==============================] - 0s 2ms/step - loss: 21.1735 - accuracy: 0.5208\n",
            "39/39 [==============================] - 1s 2ms/step - loss: 2.8429 - accuracy: 0.6031\n",
            "10/10 [==============================] - 0s 2ms/step - loss: 1.8259 - accuracy: 0.5208\n",
            "39/39 [==============================] - 1s 2ms/step - loss: 1.1657 - accuracy: 0.6114\n",
            "10/10 [==============================] - 0s 2ms/step - loss: 0.6092 - accuracy: 0.7347\n",
            "39/39 [==============================] - 1s 2ms/step - loss: 8.9242 - accuracy: 0.5907\n",
            "10/10 [==============================] - 0s 2ms/step - loss: 2.5938 - accuracy: 0.6531\n",
            "39/39 [==============================] - 1s 2ms/step - loss: 5.4518 - accuracy: 0.3763\n",
            "10/10 [==============================] - 0s 2ms/step - loss: 4.4232 - accuracy: 0.4167\n",
            "39/39 [==============================] - 1s 2ms/step - loss: 45.2825 - accuracy: 0.5567\n",
            "10/10 [==============================] - 0s 2ms/step - loss: 31.0705 - accuracy: 0.5208\n",
            "39/39 [==============================] - 1s 2ms/step - loss: 62.1956 - accuracy: 0.4536\n",
            "10/10 [==============================] - 0s 3ms/step - loss: 38.7203 - accuracy: 0.4375\n",
            "39/39 [==============================] - 1s 2ms/step - loss: 13.5697 - accuracy: 0.5699\n",
            "10/10 [==============================] - 0s 3ms/step - loss: 2.3277 - accuracy: 0.6531\n",
            "39/39 [==============================] - 1s 2ms/step - loss: 48.8150 - accuracy: 0.4249\n",
            "10/10 [==============================] - 0s 2ms/step - loss: 17.7905 - accuracy: 0.5510\n",
            "39/39 [==============================] - 1s 2ms/step - loss: 36.0201 - accuracy: 0.4485\n",
            "10/10 [==============================] - 0s 2ms/step - loss: 26.0268 - accuracy: 0.4583\n",
            "39/39 [==============================] - 1s 2ms/step - loss: 14.7460 - accuracy: 0.4485\n",
            "10/10 [==============================] - 0s 2ms/step - loss: 3.3717 - accuracy: 0.5417\n",
            "39/39 [==============================] - 1s 2ms/step - loss: 22.0372 - accuracy: 0.5361\n",
            "10/10 [==============================] - 0s 2ms/step - loss: 8.6755 - accuracy: 0.5000\n",
            "39/39 [==============================] - 1s 2ms/step - loss: 34.1067 - accuracy: 0.5181\n",
            "10/10 [==============================] - 0s 2ms/step - loss: 14.5501 - accuracy: 0.6735\n",
            "39/39 [==============================] - 1s 2ms/step - loss: 19.1594 - accuracy: 0.5130\n",
            "10/10 [==============================] - 0s 2ms/step - loss: 5.7132 - accuracy: 0.6939\n",
            "39/39 [==============================] - 1s 2ms/step - loss: 9.6539 - accuracy: 0.5052\n",
            "10/10 [==============================] - 0s 2ms/step - loss: 5.4779 - accuracy: 0.5417\n",
            "39/39 [==============================] - 1s 2ms/step - loss: 26.2907 - accuracy: 0.5567\n",
            "10/10 [==============================] - 0s 2ms/step - loss: 18.5332 - accuracy: 0.5208\n",
            "39/39 [==============================] - 1s 2ms/step - loss: 43.0599 - accuracy: 0.5464\n",
            "10/10 [==============================] - 0s 2ms/step - loss: 24.3897 - accuracy: 0.5625\n",
            "39/39 [==============================] - 1s 2ms/step - loss: 8.3320 - accuracy: 0.5855\n",
            "10/10 [==============================] - 0s 2ms/step - loss: 4.9211 - accuracy: 0.6122\n",
            "39/39 [==============================] - 1s 2ms/step - loss: 19.4522 - accuracy: 0.5699\n",
            "10/10 [==============================] - 0s 2ms/step - loss: 8.8581 - accuracy: 0.4490\n",
            "39/39 [==============================] - 1s 2ms/step - loss: 55.0500 - accuracy: 0.5515\n",
            "10/10 [==============================] - 0s 2ms/step - loss: 41.3671 - accuracy: 0.5417\n",
            "39/39 [==============================] - 1s 2ms/step - loss: 17.3528 - accuracy: 0.4278\n",
            "10/10 [==============================] - 0s 2ms/step - loss: 1.4240 - accuracy: 0.4792\n",
            "39/39 [==============================] - 1s 2ms/step - loss: 3.5426 - accuracy: 0.5515\n",
            "10/10 [==============================] - 0s 2ms/step - loss: 1.0954 - accuracy: 0.6875\n",
            "20/20 [==============================] - 1s 2ms/step - loss: 85.1516 - accuracy: 0.4819\n",
            "5/5 [==============================] - 0s 5ms/step - loss: 87.5547 - accuracy: 0.3265\n",
            "20/20 [==============================] - 1s 2ms/step - loss: 5.6844 - accuracy: 0.5544\n",
            "5/5 [==============================] - 0s 4ms/step - loss: 7.0941 - accuracy: 0.3673\n",
            "20/20 [==============================] - 1s 2ms/step - loss: 36.0589 - accuracy: 0.5515\n",
            "5/5 [==============================] - 0s 3ms/step - loss: 28.4989 - accuracy: 0.5417\n",
            "20/20 [==============================] - 1s 2ms/step - loss: 2.2691 - accuracy: 0.6495\n",
            "5/5 [==============================] - 0s 4ms/step - loss: 1.1109 - accuracy: 0.6875\n",
            "20/20 [==============================] - 1s 2ms/step - loss: 13.7537 - accuracy: 0.5206\n",
            "5/5 [==============================] - 0s 4ms/step - loss: 1.8648 - accuracy: 0.4792\n",
            "20/20 [==============================] - 1s 2ms/step - loss: 7.0397 - accuracy: 0.4663\n",
            "5/5 [==============================] - 0s 3ms/step - loss: 4.0255 - accuracy: 0.4286\n",
            "20/20 [==============================] - 1s 2ms/step - loss: 6.3417 - accuracy: 0.6477\n",
            "5/5 [==============================] - 0s 4ms/step - loss: 5.4678 - accuracy: 0.6735\n",
            "20/20 [==============================] - 1s 2ms/step - loss: 5.1657 - accuracy: 0.4691\n",
            "5/5 [==============================] - 0s 4ms/step - loss: 2.1574 - accuracy: 0.5208\n",
            "20/20 [==============================] - 1s 2ms/step - loss: 17.5700 - accuracy: 0.4278\n",
            "5/5 [==============================] - 0s 2ms/step - loss: 8.6886 - accuracy: 0.4792\n",
            "20/20 [==============================] - 1s 2ms/step - loss: 24.3711 - accuracy: 0.5464\n",
            "5/5 [==============================] - 0s 3ms/step - loss: 14.4601 - accuracy: 0.5625\n",
            "20/20 [==============================] - 1s 2ms/step - loss: 32.5023 - accuracy: 0.4819\n",
            "5/5 [==============================] - 0s 3ms/step - loss: 26.5547 - accuracy: 0.3265\n",
            "20/20 [==============================] - 1s 2ms/step - loss: 21.2707 - accuracy: 0.5751\n",
            "5/5 [==============================] - 0s 2ms/step - loss: 19.0907 - accuracy: 0.4490\n",
            "20/20 [==============================] - 1s 2ms/step - loss: 2.5409 - accuracy: 0.3814\n",
            "5/5 [==============================] - 0s 4ms/step - loss: 1.6707 - accuracy: 0.3542\n",
            "20/20 [==============================] - 1s 2ms/step - loss: 6.1793 - accuracy: 0.5876\n",
            "5/5 [==============================] - 0s 3ms/step - loss: 2.7842 - accuracy: 0.5417\n",
            "20/20 [==============================] - 1s 2ms/step - loss: 24.2784 - accuracy: 0.5464\n",
            "5/5 [==============================] - 0s 3ms/step - loss: 12.2028 - accuracy: 0.5625\n",
            "20/20 [==============================] - 1s 2ms/step - loss: 39.0862 - accuracy: 0.4819\n",
            "5/5 [==============================] - 0s 4ms/step - loss: 35.3580 - accuracy: 0.3265\n",
            "20/20 [==============================] - 1s 2ms/step - loss: 29.7559 - accuracy: 0.5751\n",
            "5/5 [==============================] - 0s 5ms/step - loss: 35.4808 - accuracy: 0.4490\n",
            "20/20 [==============================] - 1s 2ms/step - loss: 3.3567 - accuracy: 0.5670\n",
            "5/5 [==============================] - 0s 4ms/step - loss: 3.6109 - accuracy: 0.5625\n",
            "20/20 [==============================] - 1s 2ms/step - loss: 54.6731 - accuracy: 0.4433\n",
            "5/5 [==============================] - 0s 4ms/step - loss: 40.0638 - accuracy: 0.4792\n",
            "20/20 [==============================] - 1s 2ms/step - loss: 40.7964 - accuracy: 0.4536\n",
            "5/5 [==============================] - 0s 4ms/step - loss: 23.6017 - accuracy: 0.4375\n",
            "20/20 [==============================] - 1s 2ms/step - loss: 2.6645 - accuracy: 0.5285\n",
            "5/5 [==============================] - 0s 4ms/step - loss: 0.9889 - accuracy: 0.6735\n",
            "20/20 [==============================] - 1s 2ms/step - loss: 4.9878 - accuracy: 0.4301\n",
            "5/5 [==============================] - 0s 3ms/step - loss: 1.0654 - accuracy: 0.5918\n",
            "20/20 [==============================] - 1s 2ms/step - loss: 25.9822 - accuracy: 0.5515\n",
            "5/5 [==============================] - 0s 4ms/step - loss: 16.7250 - accuracy: 0.5417\n",
            "20/20 [==============================] - 1s 2ms/step - loss: 16.9138 - accuracy: 0.4639\n",
            "5/5 [==============================] - 0s 3ms/step - loss: 9.3911 - accuracy: 0.5208\n",
            "20/20 [==============================] - 1s 2ms/step - loss: 2.8952 - accuracy: 0.4639\n",
            "5/5 [==============================] - 0s 3ms/step - loss: 3.2299 - accuracy: 0.4167\n",
            "10/10 [==============================] - 1s 2ms/step - loss: 143.0211 - accuracy: 0.4819\n",
            "3/3 [==============================] - 0s 5ms/step - loss: 165.3952 - accuracy: 0.3265\n",
            "10/10 [==============================] - 1s 3ms/step - loss: 36.1368 - accuracy: 0.4249\n",
            "3/3 [==============================] - 0s 7ms/step - loss: 25.4511 - accuracy: 0.5510\n",
            "10/10 [==============================] - 1s 3ms/step - loss: 2.5069 - accuracy: 0.4588\n",
            "3/3 [==============================] - 0s 5ms/step - loss: 1.9992 - accuracy: 0.4792\n",
            "10/10 [==============================] - 1s 2ms/step - loss: 37.9047 - accuracy: 0.5567\n",
            "3/3 [==============================] - 0s 6ms/step - loss: 31.8953 - accuracy: 0.5208\n",
            "10/10 [==============================] - 1s 3ms/step - loss: 2.6724 - accuracy: 0.6598\n",
            "3/3 [==============================] - 0s 6ms/step - loss: 2.0322 - accuracy: 0.7083\n",
            "10/10 [==============================] - 1s 3ms/step - loss: 8.4833 - accuracy: 0.4041\n",
            "3/3 [==============================] - 0s 7ms/step - loss: 5.4688 - accuracy: 0.3673\n",
            "10/10 [==============================] - 1s 2ms/step - loss: 2.7760 - accuracy: 0.5337\n",
            "3/3 [==============================] - 0s 4ms/step - loss: 1.6202 - accuracy: 0.6327\n",
            "10/10 [==============================] - 1s 4ms/step - loss: 79.3837 - accuracy: 0.5515\n",
            "3/3 [==============================] - 0s 6ms/step - loss: 72.6392 - accuracy: 0.5417\n",
            "10/10 [==============================] - 1s 3ms/step - loss: 21.9132 - accuracy: 0.5567\n",
            "3/3 [==============================] - 0s 4ms/step - loss: 16.5789 - accuracy: 0.5417\n",
            "10/10 [==============================] - 1s 3ms/step - loss: 22.8089 - accuracy: 0.4536\n",
            "3/3 [==============================] - 0s 4ms/step - loss: 12.6364 - accuracy: 0.4375\n",
            "10/10 [==============================] - 1s 2ms/step - loss: 4.1042 - accuracy: 0.4767\n",
            "3/3 [==============================] - 0s 5ms/step - loss: 1.3588 - accuracy: 0.6327\n",
            "10/10 [==============================] - 1s 3ms/step - loss: 29.7176 - accuracy: 0.5751\n",
            "3/3 [==============================] - 0s 6ms/step - loss: 35.7216 - accuracy: 0.4490\n",
            "10/10 [==============================] - 1s 3ms/step - loss: 10.1618 - accuracy: 0.5670\n",
            "3/3 [==============================] - 0s 6ms/step - loss: 7.2993 - accuracy: 0.4583\n",
            "10/10 [==============================] - 1s 3ms/step - loss: 11.1424 - accuracy: 0.5515\n",
            "3/3 [==============================] - 0s 5ms/step - loss: 4.4034 - accuracy: 0.4792\n",
            "10/10 [==============================] - 1s 3ms/step - loss: 6.3941 - accuracy: 0.4433\n",
            "3/3 [==============================] - 0s 5ms/step - loss: 4.1438 - accuracy: 0.3125\n",
            "10/10 [==============================] - 1s 3ms/step - loss: 3.8817 - accuracy: 0.5285\n",
            "3/3 [==============================] - 0s 10ms/step - loss: 0.7726 - accuracy: 0.6327\n",
            "10/10 [==============================] - 1s 3ms/step - loss: 26.4162 - accuracy: 0.5751\n",
            "3/3 [==============================] - 0s 6ms/step - loss: 30.0040 - accuracy: 0.4490\n",
            "10/10 [==============================] - 1s 3ms/step - loss: 44.4674 - accuracy: 0.4485\n",
            "3/3 [==============================] - 0s 8ms/step - loss: 39.6552 - accuracy: 0.4583\n",
            "10/10 [==============================] - 1s 3ms/step - loss: 20.5431 - accuracy: 0.4433\n",
            "3/3 [==============================] - 0s 6ms/step - loss: 13.7976 - accuracy: 0.4792\n",
            "10/10 [==============================] - 1s 3ms/step - loss: 25.0563 - accuracy: 0.5464\n",
            "3/3 [==============================] - 0s 5ms/step - loss: 15.2065 - accuracy: 0.5625\n",
            "10/10 [==============================] - 1s 3ms/step - loss: 10.0839 - accuracy: 0.4767\n",
            "3/3 [==============================] - 0s 7ms/step - loss: 6.0806 - accuracy: 0.3469\n",
            "10/10 [==============================] - 1s 3ms/step - loss: 12.1869 - accuracy: 0.4249\n",
            "3/3 [==============================] - 0s 6ms/step - loss: 3.8025 - accuracy: 0.6122\n",
            "10/10 [==============================] - 1s 3ms/step - loss: 7.2150 - accuracy: 0.5619\n",
            "3/3 [==============================] - 0s 6ms/step - loss: 2.3687 - accuracy: 0.5833\n",
            "10/10 [==============================] - 1s 3ms/step - loss: 2.8888 - accuracy: 0.6134\n",
            "3/3 [==============================] - 0s 7ms/step - loss: 1.6208 - accuracy: 0.6875\n",
            "10/10 [==============================] - 1s 3ms/step - loss: 37.9917 - accuracy: 0.5464\n",
            "3/3 [==============================] - 0s 3ms/step - loss: 28.5727 - accuracy: 0.5625\n",
            "7/7 [==============================] - 1s 4ms/step - loss: 9.8087 - accuracy: 0.4611\n",
            "2/2 [==============================] - 0s 13ms/step - loss: 8.3761 - accuracy: 0.3878\n",
            "7/7 [==============================] - 1s 3ms/step - loss: 64.5859 - accuracy: 0.4249\n",
            "2/2 [==============================] - 0s 10ms/step - loss: 47.2974 - accuracy: 0.5510\n",
            "7/7 [==============================] - 1s 3ms/step - loss: 19.5907 - accuracy: 0.5412\n",
            "2/2 [==============================] - 0s 11ms/step - loss: 14.0387 - accuracy: 0.5000\n",
            "7/7 [==============================] - 1s 3ms/step - loss: 28.2144 - accuracy: 0.5567\n",
            "2/2 [==============================] - 0s 14ms/step - loss: 26.3517 - accuracy: 0.5208\n",
            "7/7 [==============================] - 1s 4ms/step - loss: 62.0902 - accuracy: 0.4536\n",
            "2/2 [==============================] - 0s 7ms/step - loss: 57.7001 - accuracy: 0.4375\n",
            "7/7 [==============================] - 1s 4ms/step - loss: 44.1289 - accuracy: 0.4819\n",
            "2/2 [==============================] - 0s 10ms/step - loss: 48.7063 - accuracy: 0.3265\n",
            "7/7 [==============================] - 1s 3ms/step - loss: 22.3011 - accuracy: 0.5751\n",
            "2/2 [==============================] - 0s 6ms/step - loss: 24.4374 - accuracy: 0.4490\n",
            "7/7 [==============================] - 1s 3ms/step - loss: 4.6187 - accuracy: 0.4948\n",
            "2/2 [==============================] - 0s 6ms/step - loss: 1.1299 - accuracy: 0.6667\n",
            "7/7 [==============================] - 1s 3ms/step - loss: 7.5199 - accuracy: 0.4485\n",
            "2/2 [==============================] - 0s 9ms/step - loss: 4.9757 - accuracy: 0.5208\n",
            "7/7 [==============================] - 1s 3ms/step - loss: 4.6520 - accuracy: 0.5309\n",
            "2/2 [==============================] - 0s 5ms/step - loss: 1.4698 - accuracy: 0.7083\n",
            "7/7 [==============================] - 1s 4ms/step - loss: 5.3997 - accuracy: 0.5648\n",
            "2/2 [==============================] - 0s 6ms/step - loss: 1.2660 - accuracy: 0.7347\n",
            "7/7 [==============================] - 1s 3ms/step - loss: 21.2538 - accuracy: 0.5751\n",
            "2/2 [==============================] - 0s 5ms/step - loss: 25.3124 - accuracy: 0.4490\n",
            "7/7 [==============================] - 1s 3ms/step - loss: 28.0595 - accuracy: 0.4485\n",
            "2/2 [==============================] - 0s 7ms/step - loss: 23.1336 - accuracy: 0.4583\n",
            "7/7 [==============================] - 1s 3ms/step - loss: 10.4291 - accuracy: 0.5567\n",
            "2/2 [==============================] - 0s 7ms/step - loss: 6.6565 - accuracy: 0.5208\n",
            "7/7 [==============================] - 1s 4ms/step - loss: 5.5732 - accuracy: 0.5876\n",
            "2/2 [==============================] - 0s 13ms/step - loss: 3.2590 - accuracy: 0.5417\n",
            "7/7 [==============================] - 1s 3ms/step - loss: 24.8953 - accuracy: 0.5181\n",
            "2/2 [==============================] - 0s 11ms/step - loss: 10.1155 - accuracy: 0.6735\n",
            "7/7 [==============================] - 1s 3ms/step - loss: 12.4678 - accuracy: 0.5751\n",
            "2/2 [==============================] - 0s 7ms/step - loss: 15.1988 - accuracy: 0.4490\n",
            "7/7 [==============================] - 1s 3ms/step - loss: 7.2658 - accuracy: 0.4381\n",
            "2/2 [==============================] - 0s 6ms/step - loss: 2.1437 - accuracy: 0.5208\n",
            "7/7 [==============================] - 1s 3ms/step - loss: 77.3969 - accuracy: 0.4433\n",
            "2/2 [==============================] - 0s 8ms/step - loss: 69.6557 - accuracy: 0.4792\n",
            "7/7 [==============================] - 1s 4ms/step - loss: 8.3903 - accuracy: 0.3711\n",
            "2/2 [==============================] - 0s 8ms/step - loss: 7.7835 - accuracy: 0.3125\n",
            "7/7 [==============================] - 1s 3ms/step - loss: 23.2470 - accuracy: 0.4870\n",
            "2/2 [==============================] - 0s 10ms/step - loss: 20.9707 - accuracy: 0.3265\n",
            "7/7 [==============================] - 1s 3ms/step - loss: 28.7646 - accuracy: 0.5751\n",
            "2/2 [==============================] - 0s 5ms/step - loss: 32.4318 - accuracy: 0.4490\n",
            "7/7 [==============================] - 1s 3ms/step - loss: 11.5623 - accuracy: 0.5567\n",
            "2/2 [==============================] - 0s 10ms/step - loss: 7.0984 - accuracy: 0.5417\n",
            "7/7 [==============================] - 1s 3ms/step - loss: 17.2727 - accuracy: 0.4433\n",
            "2/2 [==============================] - 0s 4ms/step - loss: 10.5147 - accuracy: 0.4792\n",
            "7/7 [==============================] - 1s 3ms/step - loss: 55.7589 - accuracy: 0.5464\n",
            "2/2 [==============================] - 0s 9ms/step - loss: 44.1959 - accuracy: 0.5625\n",
            "49/49 [==============================] - 1s 2ms/step - loss: 12.0821 - accuracy: 0.5455\n"
          ]
        }
      ]
    },
    {
      "cell_type": "code",
      "source": [
        "# for params, mean_score, scores in grid_result.grid_scores_:\n",
        "#     print(\"%f (%f) with: %r\" % (scores.mean(), scores.std(), params))"
      ],
      "metadata": {
        "id": "E4N1GAIb7yTv"
      },
      "execution_count": null,
      "outputs": []
    },
    {
      "cell_type": "code",
      "source": [
        "grid_result.best_params_"
      ],
      "metadata": {
        "colab": {
          "base_uri": "https://localhost:8080/"
        },
        "id": "1B7baIdF8nwZ",
        "outputId": "2983414c-170d-4ac4-c484-e05dafa9a4eb"
      },
      "execution_count": 36,
      "outputs": [
        {
          "output_type": "execute_result",
          "data": {
            "text/plain": [
              "{'batch_size': 5, 'nb_epoch': 150}"
            ]
          },
          "metadata": {},
          "execution_count": 36
        }
      ]
    },
    {
      "cell_type": "code",
      "source": [
        "grid_result.best_score_"
      ],
      "metadata": {
        "colab": {
          "base_uri": "https://localhost:8080/"
        },
        "id": "ds2zPHoP-ZO6",
        "outputId": "b49b9a43-bb42-4e41-c6a6-25e27e9982a3"
      },
      "execution_count": 37,
      "outputs": [
        {
          "output_type": "execute_result",
          "data": {
            "text/plain": [
              "0.5984693884849548"
            ]
          },
          "metadata": {},
          "execution_count": 37
        }
      ]
    }
  ]
}