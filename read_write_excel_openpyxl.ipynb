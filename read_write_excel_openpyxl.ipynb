{
 "cells": [
  {
   "cell_type": "markdown",
   "metadata": {},
   "source": [
    "Primeiramente, importar as bibliotecas necessárias"
   ]
  },
  {
   "cell_type": "code",
   "execution_count": 1,
   "metadata": {},
   "outputs": [],
   "source": [
    "import openpyxl\n",
    "from pathlib import Path"
   ]
  },
  {
   "cell_type": "markdown",
   "metadata": {},
   "source": [
    "Agora, configurar o caminho do arquivo XLSX em uma variável"
   ]
  },
  {
   "cell_type": "code",
   "execution_count": 2,
   "metadata": {},
   "outputs": [],
   "source": [
    "#xlsx_file = Path(Path.home(), ''Documents', 'subfolder', 'cansaco_homeoffice_dataset_joao_blue.xlsx')\n",
    "#xlsx_file = Path('subfolder', 'cansaco_homeoffice_dataset_joao_blue.xlsx')\n",
    "xlsx_file = Path('cansaco_homeoffice_dataset_joao_blue.xlsx')\n"
   ]
  },
  {
   "cell_type": "markdown",
   "metadata": {},
   "source": [
    "Okay, tudo muito lindo, tudo muito bom. Vamos carregar o arquivo com o openpyxl na próxima seção. O openpyxl se refere a arquivos excel como \"Workbook\" mas é a mesmíssima coisa, só não fala excel pq excel é marca registrada da microsoft e ngm tá afim de pagar royalties rs."
   ]
  },
  {
   "cell_type": "code",
   "execution_count": 4,
   "metadata": {},
   "outputs": [
    {
     "name": "stderr",
     "output_type": "stream",
     "text": [
      "/home/joao/.local/lib/python3.9/site-packages/openpyxl/packaging/relationship.py:136: UserWarning: xl/pivotCache/_rels/pivotCacheDefinition1.xml.rels contains invalid dependency definitions\n",
      "  warn(msg)\n"
     ]
    },
    {
     "name": "stdout",
     "output_type": "stream",
     "text": [
      "<openpyxl.workbook.workbook.Workbook object at 0x7fa310a34850>\n"
     ]
    }
   ],
   "source": [
    "workbook_excel = openpyxl.load_workbook(xlsx_file)\n",
    "print(workbook_excel)"
   ]
  }
 ],
 "metadata": {
  "interpreter": {
   "hash": "31f2aee4e71d21fbe5cf8b01ff0e069b9275f58929596ceb00d14d90e3e16cd6"
  },
  "kernelspec": {
   "display_name": "Python 3.9.7 64-bit",
   "language": "python",
   "name": "python3"
  },
  "language_info": {
   "codemirror_mode": {
    "name": "ipython",
    "version": 3
   },
   "file_extension": ".py",
   "mimetype": "text/x-python",
   "name": "python",
   "nbconvert_exporter": "python",
   "pygments_lexer": "ipython3",
   "version": "3.9.7"
  },
  "orig_nbformat": 4
 },
 "nbformat": 4,
 "nbformat_minor": 2
}
