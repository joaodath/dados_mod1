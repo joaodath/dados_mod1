{
 "cells": [
  {
   "cell_type": "markdown",
   "metadata": {},
   "source": [
    "# Projeto 3 - Clusterização de dados de vendas de produtos\n",
    "## Wholesale customers Data Set - UCI"
   ]
  },
  {
   "cell_type": "markdown",
   "metadata": {},
   "source": [
    "## Introdução"
   ]
  },
  {
   "cell_type": "markdown",
   "metadata": {},
   "source": [
    "O conjunto de dados de vendas esta localizado na plataforma UCI no seguinte link - https://archive.ics.uci.edu/ml/datasets/Wholesale+customers. Este é um conjunto de dados que não possui rotulo, o nosso desafio será agrupar essas vendas em grupos e avaliar estes grupos.\n",
    "\n",
    "Segue a descrição das variaveis:\n",
    "- FRESH: gastos anuais em produtos frescos\n",
    "- MILK: gastos anuais em produtos lácteos\n",
    "- GROCERY: gastos anuais em produtos de mercearia\n",
    "- FROZEN: gastos anuais em produtos congelados\n",
    "- DETERGENTS_PAPER: gastos anuais em detergentes e produtos de papel\n",
    "- DELICATESSEN: gastos anuais em produtos artesanais (queijos, vinhos, doces)\n",
    "- CHANNEL: origem do cliente - Horeca (Hotel/Restaurante/Café) (1) ou canais de varejo (2)\n",
    "- REGION: região do cliente Lisbon (1), Oporto (2) or Other Region (3)\n",
    "\n",
    "#### referencia: \n",
    "Abreu, N. (2011). Analise do perfil do cliente Recheio e desenvolvimento de um sistema promocional. Mestrado em Marketing, ISCTE-IUL, Lisbon"
   ]
  },
  {
   "cell_type": "markdown",
   "metadata": {},
   "source": [
    "# Sobre este projeto\n",
    "\n",
    "Neste projeto treine os conhecimentos aprendidos até o momento e que entenda algumas das dificuldades que pode ter quando for aplicar os mesmos. \n",
    "\n",
    "Os principais pontos que serão avaliados:\n",
    "\n",
    "- Levantamento de hipoteses\n",
    "- Manipulação de dados e criação de gráficos simples com o `Pandas`\n",
    "- Criar um modelo clusterização e justificar"
   ]
  },
  {
   "cell_type": "markdown",
   "metadata": {},
   "source": [
    "# Preparação do ambiente\n",
    "\n",
    "- Acessem o link - https://archive.ics.uci.edu/ml/machine-learning-databases/00292/Wholesale%20customers%20data.csv e faça o download do conjunto de dados."
   ]
  },
  {
   "cell_type": "code",
   "execution_count": 1,
   "metadata": {},
   "outputs": [],
   "source": [
    "import pandas as pd\n",
    "import numpy as np\n",
    "import matplotlib.pyplot as plt\n",
    "import seaborn as sns\n",
    "\n",
    "# preprocessamento dos dados e modelo de cluster Kmeans\n",
    "from sklearn.preprocessing import StandardScaler\n",
    "from sklearn.cluster import KMeans\n",
    "from sklearn.metrics import silhouette_score\n"
   ]
  },
  {
   "cell_type": "code",
   "execution_count": 2,
   "metadata": {},
   "outputs": [],
   "source": [
    "# Load the data\n",
    "data = pd.read_csv('https://archive.ics.uci.edu/ml/machine-learning-databases/00292/Wholesale%20customers%20data.csv')"
   ]
  },
  {
   "cell_type": "code",
   "execution_count": 3,
   "metadata": {},
   "outputs": [
    {
     "data": {
      "text/html": [
       "<div>\n",
       "<style scoped>\n",
       "    .dataframe tbody tr th:only-of-type {\n",
       "        vertical-align: middle;\n",
       "    }\n",
       "\n",
       "    .dataframe tbody tr th {\n",
       "        vertical-align: top;\n",
       "    }\n",
       "\n",
       "    .dataframe thead th {\n",
       "        text-align: right;\n",
       "    }\n",
       "</style>\n",
       "<table border=\"1\" class=\"dataframe\">\n",
       "  <thead>\n",
       "    <tr style=\"text-align: right;\">\n",
       "      <th></th>\n",
       "      <th>Channel</th>\n",
       "      <th>Region</th>\n",
       "      <th>Fresh</th>\n",
       "      <th>Milk</th>\n",
       "      <th>Grocery</th>\n",
       "      <th>Frozen</th>\n",
       "      <th>Detergents_Paper</th>\n",
       "      <th>Delicassen</th>\n",
       "    </tr>\n",
       "  </thead>\n",
       "  <tbody>\n",
       "    <tr>\n",
       "      <th>0</th>\n",
       "      <td>2</td>\n",
       "      <td>3</td>\n",
       "      <td>12669</td>\n",
       "      <td>9656</td>\n",
       "      <td>7561</td>\n",
       "      <td>214</td>\n",
       "      <td>2674</td>\n",
       "      <td>1338</td>\n",
       "    </tr>\n",
       "    <tr>\n",
       "      <th>1</th>\n",
       "      <td>2</td>\n",
       "      <td>3</td>\n",
       "      <td>7057</td>\n",
       "      <td>9810</td>\n",
       "      <td>9568</td>\n",
       "      <td>1762</td>\n",
       "      <td>3293</td>\n",
       "      <td>1776</td>\n",
       "    </tr>\n",
       "    <tr>\n",
       "      <th>2</th>\n",
       "      <td>2</td>\n",
       "      <td>3</td>\n",
       "      <td>6353</td>\n",
       "      <td>8808</td>\n",
       "      <td>7684</td>\n",
       "      <td>2405</td>\n",
       "      <td>3516</td>\n",
       "      <td>7844</td>\n",
       "    </tr>\n",
       "    <tr>\n",
       "      <th>3</th>\n",
       "      <td>1</td>\n",
       "      <td>3</td>\n",
       "      <td>13265</td>\n",
       "      <td>1196</td>\n",
       "      <td>4221</td>\n",
       "      <td>6404</td>\n",
       "      <td>507</td>\n",
       "      <td>1788</td>\n",
       "    </tr>\n",
       "    <tr>\n",
       "      <th>4</th>\n",
       "      <td>2</td>\n",
       "      <td>3</td>\n",
       "      <td>22615</td>\n",
       "      <td>5410</td>\n",
       "      <td>7198</td>\n",
       "      <td>3915</td>\n",
       "      <td>1777</td>\n",
       "      <td>5185</td>\n",
       "    </tr>\n",
       "    <tr>\n",
       "      <th>5</th>\n",
       "      <td>2</td>\n",
       "      <td>3</td>\n",
       "      <td>9413</td>\n",
       "      <td>8259</td>\n",
       "      <td>5126</td>\n",
       "      <td>666</td>\n",
       "      <td>1795</td>\n",
       "      <td>1451</td>\n",
       "    </tr>\n",
       "    <tr>\n",
       "      <th>6</th>\n",
       "      <td>2</td>\n",
       "      <td>3</td>\n",
       "      <td>12126</td>\n",
       "      <td>3199</td>\n",
       "      <td>6975</td>\n",
       "      <td>480</td>\n",
       "      <td>3140</td>\n",
       "      <td>545</td>\n",
       "    </tr>\n",
       "    <tr>\n",
       "      <th>7</th>\n",
       "      <td>2</td>\n",
       "      <td>3</td>\n",
       "      <td>7579</td>\n",
       "      <td>4956</td>\n",
       "      <td>9426</td>\n",
       "      <td>1669</td>\n",
       "      <td>3321</td>\n",
       "      <td>2566</td>\n",
       "    </tr>\n",
       "    <tr>\n",
       "      <th>8</th>\n",
       "      <td>1</td>\n",
       "      <td>3</td>\n",
       "      <td>5963</td>\n",
       "      <td>3648</td>\n",
       "      <td>6192</td>\n",
       "      <td>425</td>\n",
       "      <td>1716</td>\n",
       "      <td>750</td>\n",
       "    </tr>\n",
       "    <tr>\n",
       "      <th>9</th>\n",
       "      <td>2</td>\n",
       "      <td>3</td>\n",
       "      <td>6006</td>\n",
       "      <td>11093</td>\n",
       "      <td>18881</td>\n",
       "      <td>1159</td>\n",
       "      <td>7425</td>\n",
       "      <td>2098</td>\n",
       "    </tr>\n",
       "  </tbody>\n",
       "</table>\n",
       "</div>"
      ],
      "text/plain": [
       "   Channel  Region  Fresh   Milk  Grocery  Frozen  Detergents_Paper  \\\n",
       "0        2       3  12669   9656     7561     214              2674   \n",
       "1        2       3   7057   9810     9568    1762              3293   \n",
       "2        2       3   6353   8808     7684    2405              3516   \n",
       "3        1       3  13265   1196     4221    6404               507   \n",
       "4        2       3  22615   5410     7198    3915              1777   \n",
       "5        2       3   9413   8259     5126     666              1795   \n",
       "6        2       3  12126   3199     6975     480              3140   \n",
       "7        2       3   7579   4956     9426    1669              3321   \n",
       "8        1       3   5963   3648     6192     425              1716   \n",
       "9        2       3   6006  11093    18881    1159              7425   \n",
       "\n",
       "   Delicassen  \n",
       "0        1338  \n",
       "1        1776  \n",
       "2        7844  \n",
       "3        1788  \n",
       "4        5185  \n",
       "5        1451  \n",
       "6         545  \n",
       "7        2566  \n",
       "8         750  \n",
       "9        2098  "
      ]
     },
     "execution_count": 3,
     "metadata": {},
     "output_type": "execute_result"
    }
   ],
   "source": [
    "data.head(10)"
   ]
  },
  {
   "cell_type": "markdown",
   "metadata": {},
   "source": [
    "# Exercicio 1. (3.0 pontos)\n",
    "\n",
    "Faça um gráfico de cotovelo, quantos clusters aproximadamente melhor separam este conjunto de dados informado pelo grafico de cotovelo?"
   ]
  },
  {
   "cell_type": "code",
   "execution_count": 4,
   "metadata": {},
   "outputs": [
    {
     "data": {
      "image/png": "[encoded data removed]",
      "text/plain": [
       "<Figure size 576x576 with 1 Axes>"
      ]
     },
     "metadata": {
      "needs_background": "light"
     },
     "output_type": "display_data"
    }
   ],
   "source": [
    "#### VALE 0.5 pontos\n",
    "#### CONSTRUA OS SEUS GRAFICOS ABAIXO, USE MAIS CELULAS SE NECESSARIO\n",
    "WCSS_kmeans = []\n",
    "sizes = range(2, 12)\n",
    "for k in sizes:\n",
    "    k2 = KMeans(random_state=10, n_clusters=k)\n",
    "    k2.fit(data)\n",
    "    WCSS_kmeans.append(k2.inertia_)\n",
    "\n",
    "sns.set_style('darkgrid')\n",
    "fig, ax = plt.subplots(figsize=(8, 8))\n",
    "\n",
    "pd.Series(WCSS_kmeans, index=sizes).plot(ax=ax)\n",
    "\n",
    "ax.set_title('Cotovelo', loc='left', fontsize=18)\n",
    "ax.set_xlabel('K', fontsize=14)\n",
    "ax.set_ylabel('WCSS_kmeans', fontsize=14)\n",
    "\n",
    "plt.show()\n"
   ]
  },
  {
   "cell_type": "markdown",
   "metadata": {},
   "source": [
    "**RESPOSTA** (VALE 1.0 ponto): (responda aqui, dê dois cliques para editar. Esta célula de texto esta escrito em Markdown, para renderizar o texto execute a célula com **Shift+Enter**)\n",
    "\n",
    "De acordo com o gráfico de cotovelo, o melhor número de clusters é 5."
   ]
  },
  {
   "cell_type": "markdown",
   "metadata": {},
   "source": [
    "Construa um modelo de **clusterização K-Médias** usando o melhor numero de clusters informado pelo gráfico de cotovelo e usem o parametro **random_state** com valor 10."
   ]
  },
  {
   "cell_type": "code",
   "execution_count": 24,
   "metadata": {},
   "outputs": [
    {
     "name": "stdout",
     "output_type": "stream",
     "text": [
      "K-médias com k = 5\n",
      "Silhouette Score: 0.4089322388552013\n"
     ]
    }
   ],
   "source": [
    "#### VALE 0.5 pontos\n",
    "#### EXECUTE OS COMANDOS ABAIXO, USE MAIS CELULAS SE NECESSARIO\n",
    "\n",
    "X_std = StandardScaler().fit_transform(data)\n",
    "\n",
    "kmeans5 = KMeans(n_clusters=5, random_state=10)\n",
    "kmeans5_pred = kmeans5.fit_predict(X_std)\n",
    "\n",
    "print(\"K-médias com k = 5\")\n",
    "print('Silhouette Score:', silhouette_score(X_std, kmeans5_pred, metric='euclidean'))"
   ]
  },
  {
   "cell_type": "markdown",
   "metadata": {},
   "source": [
    "Adicione o resultado da clusterização no conjunto de dados original, chame essa nova variavel de **cluster** e conte quantas observações há em cada cluster e preencha:"
   ]
  },
  {
   "cell_type": "code",
   "execution_count": 12,
   "metadata": {},
   "outputs": [
    {
     "data": {
      "text/plain": [
       "1    211\n",
       "2    125\n",
       "0     91\n",
       "3     11\n",
       "4      2\n",
       "Name: cluster, dtype: int64"
      ]
     },
     "execution_count": 12,
     "metadata": {},
     "output_type": "execute_result"
    }
   ],
   "source": [
    "#### VALE 0.5 pontos\n",
    "#### EXECUTE OS COMANDOS ABAIXO, USE MAIS CELULAS SE NECESSARIO\n",
    "\n",
    "data['cluster'] = kmeans5_pred\n",
    "data['cluster'].value_counts()"
   ]
  },
  {
   "cell_type": "code",
   "execution_count": 18,
   "metadata": {},
   "outputs": [
    {
     "name": "stdout",
     "output_type": "stream",
     "text": [
      "Total de observações do cluster 0: 91\n",
      "Total de observações do cluster 1: 211\n",
      "Total de observações do cluster 2: 125\n",
      "Total de observações do cluster 3: 11\n",
      "Total de observações do cluster 4: 2\n"
     ]
    }
   ],
   "source": [
    "#### VALE 0.5 pontos\n",
    "# Substitua __ pelos valores solicitados\n",
    "# copie a linha de cima, alterando o cluster e preenchendo o total\n",
    "\n",
    "print('Total de observações do cluster 0: {}'.format(len(data[data['cluster'] == 0])))\n",
    "print('Total de observações do cluster 1: {}'.format(len(data[data['cluster'] == 1])))\n",
    "print('Total de observações do cluster 2: {}'.format(len(data[data['cluster'] == 2])))\n",
    "print('Total de observações do cluster 3: {}'.format(len(data[data['cluster'] == 3])))\n",
    "print('Total de observações do cluster 4: {}'.format(len(data[data['cluster'] == 4])))"
   ]
  },
  {
   "cell_type": "markdown",
   "metadata": {},
   "source": [
    "# Exercicio 2. (4.0 pontos)\n",
    "\n",
    "Escolha dois clusters e separe os dados em dois subconjuntos, chamando-os de clusterA e clusterB."
   ]
  },
  {
   "cell_type": "code",
   "execution_count": 19,
   "metadata": {},
   "outputs": [],
   "source": [
    "#### VALE 1.0 ponto\n",
    "#### EXECUTE OS COMANDOS ABAIXO, USE MAIS CELULAS SE NECESSARIO\n",
    "\n",
    "clusterA = data[data['cluster'] == 1]\n",
    "clusterB = data[data['cluster'] == 2]"
   ]
  },
  {
   "cell_type": "markdown",
   "metadata": {},
   "source": [
    "Utilizaremos a função **.describe()** para obtermos as medidas de média, desvio padrão, valor minimo e valor máximo dos subconjuntos clusterA e clusterB"
   ]
  },
  {
   "cell_type": "code",
   "execution_count": 20,
   "metadata": {},
   "outputs": [
    {
     "data": {
      "text/html": [
       "<div>\n",
       "<style scoped>\n",
       "    .dataframe tbody tr th:only-of-type {\n",
       "        vertical-align: middle;\n",
       "    }\n",
       "\n",
       "    .dataframe tbody tr th {\n",
       "        vertical-align: top;\n",
       "    }\n",
       "\n",
       "    .dataframe thead th {\n",
       "        text-align: right;\n",
       "    }\n",
       "</style>\n",
       "<table border=\"1\" class=\"dataframe\">\n",
       "  <thead>\n",
       "    <tr style=\"text-align: right;\">\n",
       "      <th></th>\n",
       "      <th>Channel</th>\n",
       "      <th>Region</th>\n",
       "      <th>Fresh</th>\n",
       "      <th>Milk</th>\n",
       "      <th>Grocery</th>\n",
       "      <th>Frozen</th>\n",
       "      <th>Detergents_Paper</th>\n",
       "      <th>Delicassen</th>\n",
       "      <th>cluster</th>\n",
       "    </tr>\n",
       "  </thead>\n",
       "  <tbody>\n",
       "    <tr>\n",
       "      <th>count</th>\n",
       "      <td>211.000000</td>\n",
       "      <td>211.0</td>\n",
       "      <td>211.000000</td>\n",
       "      <td>211.000000</td>\n",
       "      <td>211.000000</td>\n",
       "      <td>211.000000</td>\n",
       "      <td>211.000000</td>\n",
       "      <td>211.000000</td>\n",
       "      <td>211.0</td>\n",
       "    </tr>\n",
       "    <tr>\n",
       "      <th>mean</th>\n",
       "      <td>1.004739</td>\n",
       "      <td>3.0</td>\n",
       "      <td>13891.473934</td>\n",
       "      <td>3297.379147</td>\n",
       "      <td>3814.625592</td>\n",
       "      <td>3490.218009</td>\n",
       "      <td>788.028436</td>\n",
       "      <td>1301.658768</td>\n",
       "      <td>1.0</td>\n",
       "    </tr>\n",
       "    <tr>\n",
       "      <th>std</th>\n",
       "      <td>0.068843</td>\n",
       "      <td>0.0</td>\n",
       "      <td>14768.849940</td>\n",
       "      <td>3534.832049</td>\n",
       "      <td>3413.341704</td>\n",
       "      <td>4406.557879</td>\n",
       "      <td>1099.470924</td>\n",
       "      <td>1763.828951</td>\n",
       "      <td>0.0</td>\n",
       "    </tr>\n",
       "    <tr>\n",
       "      <th>min</th>\n",
       "      <td>1.000000</td>\n",
       "      <td>3.0</td>\n",
       "      <td>3.000000</td>\n",
       "      <td>55.000000</td>\n",
       "      <td>3.000000</td>\n",
       "      <td>25.000000</td>\n",
       "      <td>3.000000</td>\n",
       "      <td>3.000000</td>\n",
       "      <td>1.0</td>\n",
       "    </tr>\n",
       "    <tr>\n",
       "      <th>25%</th>\n",
       "      <td>1.000000</td>\n",
       "      <td>3.0</td>\n",
       "      <td>3702.500000</td>\n",
       "      <td>1188.500000</td>\n",
       "      <td>1666.000000</td>\n",
       "      <td>779.000000</td>\n",
       "      <td>176.500000</td>\n",
       "      <td>378.500000</td>\n",
       "      <td>1.0</td>\n",
       "    </tr>\n",
       "    <tr>\n",
       "      <th>50%</th>\n",
       "      <td>1.000000</td>\n",
       "      <td>3.0</td>\n",
       "      <td>9612.000000</td>\n",
       "      <td>2247.000000</td>\n",
       "      <td>2642.000000</td>\n",
       "      <td>1945.000000</td>\n",
       "      <td>385.000000</td>\n",
       "      <td>823.000000</td>\n",
       "      <td>1.0</td>\n",
       "    </tr>\n",
       "    <tr>\n",
       "      <th>75%</th>\n",
       "      <td>1.000000</td>\n",
       "      <td>3.0</td>\n",
       "      <td>18821.000000</td>\n",
       "      <td>4115.500000</td>\n",
       "      <td>4927.500000</td>\n",
       "      <td>4494.500000</td>\n",
       "      <td>948.500000</td>\n",
       "      <td>1582.000000</td>\n",
       "      <td>1.0</td>\n",
       "    </tr>\n",
       "    <tr>\n",
       "      <th>max</th>\n",
       "      <td>2.000000</td>\n",
       "      <td>3.0</td>\n",
       "      <td>112151.000000</td>\n",
       "      <td>29627.000000</td>\n",
       "      <td>21042.000000</td>\n",
       "      <td>35009.000000</td>\n",
       "      <td>6907.000000</td>\n",
       "      <td>14472.000000</td>\n",
       "      <td>1.0</td>\n",
       "    </tr>\n",
       "  </tbody>\n",
       "</table>\n",
       "</div>"
      ],
      "text/plain": [
       "          Channel  Region          Fresh          Milk       Grocery  \\\n",
       "count  211.000000   211.0     211.000000    211.000000    211.000000   \n",
       "mean     1.004739     3.0   13891.473934   3297.379147   3814.625592   \n",
       "std      0.068843     0.0   14768.849940   3534.832049   3413.341704   \n",
       "min      1.000000     3.0       3.000000     55.000000      3.000000   \n",
       "25%      1.000000     3.0    3702.500000   1188.500000   1666.000000   \n",
       "50%      1.000000     3.0    9612.000000   2247.000000   2642.000000   \n",
       "75%      1.000000     3.0   18821.000000   4115.500000   4927.500000   \n",
       "max      2.000000     3.0  112151.000000  29627.000000  21042.000000   \n",
       "\n",
       "             Frozen  Detergents_Paper    Delicassen  cluster  \n",
       "count    211.000000        211.000000    211.000000    211.0  \n",
       "mean    3490.218009        788.028436   1301.658768      1.0  \n",
       "std     4406.557879       1099.470924   1763.828951      0.0  \n",
       "min       25.000000          3.000000      3.000000      1.0  \n",
       "25%      779.000000        176.500000    378.500000      1.0  \n",
       "50%     1945.000000        385.000000    823.000000      1.0  \n",
       "75%     4494.500000        948.500000   1582.000000      1.0  \n",
       "max    35009.000000       6907.000000  14472.000000      1.0  "
      ]
     },
     "execution_count": 20,
     "metadata": {},
     "output_type": "execute_result"
    }
   ],
   "source": [
    "#### VALE 1.0 ponto\n",
    "#### EXECUTE O COMANDO ABAIXO PARA clusterA\n",
    "\n",
    "clusterA.describe()"
   ]
  },
  {
   "cell_type": "code",
   "execution_count": 21,
   "metadata": {},
   "outputs": [
    {
     "data": {
      "text/html": [
       "<div>\n",
       "<style scoped>\n",
       "    .dataframe tbody tr th:only-of-type {\n",
       "        vertical-align: middle;\n",
       "    }\n",
       "\n",
       "    .dataframe tbody tr th {\n",
       "        vertical-align: top;\n",
       "    }\n",
       "\n",
       "    .dataframe thead th {\n",
       "        text-align: right;\n",
       "    }\n",
       "</style>\n",
       "<table border=\"1\" class=\"dataframe\">\n",
       "  <thead>\n",
       "    <tr style=\"text-align: right;\">\n",
       "      <th></th>\n",
       "      <th>Channel</th>\n",
       "      <th>Region</th>\n",
       "      <th>Fresh</th>\n",
       "      <th>Milk</th>\n",
       "      <th>Grocery</th>\n",
       "      <th>Frozen</th>\n",
       "      <th>Detergents_Paper</th>\n",
       "      <th>Delicassen</th>\n",
       "      <th>cluster</th>\n",
       "    </tr>\n",
       "  </thead>\n",
       "  <tbody>\n",
       "    <tr>\n",
       "      <th>count</th>\n",
       "      <td>125.0</td>\n",
       "      <td>125.000000</td>\n",
       "      <td>125.00000</td>\n",
       "      <td>125.000000</td>\n",
       "      <td>125.000000</td>\n",
       "      <td>125.000000</td>\n",
       "      <td>125.00000</td>\n",
       "      <td>125.000000</td>\n",
       "      <td>125.0</td>\n",
       "    </tr>\n",
       "    <tr>\n",
       "      <th>mean</th>\n",
       "      <td>2.0</td>\n",
       "      <td>2.672000</td>\n",
       "      <td>7877.64000</td>\n",
       "      <td>8913.512000</td>\n",
       "      <td>14212.624000</td>\n",
       "      <td>1339.280000</td>\n",
       "      <td>6149.59200</td>\n",
       "      <td>1537.168000</td>\n",
       "      <td>2.0</td>\n",
       "    </tr>\n",
       "    <tr>\n",
       "      <th>std</th>\n",
       "      <td>0.0</td>\n",
       "      <td>0.644781</td>\n",
       "      <td>7702.17998</td>\n",
       "      <td>4702.858495</td>\n",
       "      <td>6806.232234</td>\n",
       "      <td>1250.843423</td>\n",
       "      <td>3479.70682</td>\n",
       "      <td>1445.361718</td>\n",
       "      <td>0.0</td>\n",
       "    </tr>\n",
       "    <tr>\n",
       "      <th>min</th>\n",
       "      <td>2.0</td>\n",
       "      <td>1.000000</td>\n",
       "      <td>18.00000</td>\n",
       "      <td>1124.000000</td>\n",
       "      <td>4523.000000</td>\n",
       "      <td>33.000000</td>\n",
       "      <td>549.00000</td>\n",
       "      <td>3.000000</td>\n",
       "      <td>2.0</td>\n",
       "    </tr>\n",
       "    <tr>\n",
       "      <th>25%</th>\n",
       "      <td>2.0</td>\n",
       "      <td>3.000000</td>\n",
       "      <td>1989.00000</td>\n",
       "      <td>6128.000000</td>\n",
       "      <td>9426.000000</td>\n",
       "      <td>480.000000</td>\n",
       "      <td>3712.00000</td>\n",
       "      <td>531.000000</td>\n",
       "      <td>2.0</td>\n",
       "    </tr>\n",
       "    <tr>\n",
       "      <th>50%</th>\n",
       "      <td>2.0</td>\n",
       "      <td>3.000000</td>\n",
       "      <td>5417.00000</td>\n",
       "      <td>7704.000000</td>\n",
       "      <td>12144.000000</td>\n",
       "      <td>993.000000</td>\n",
       "      <td>5162.00000</td>\n",
       "      <td>1265.000000</td>\n",
       "      <td>2.0</td>\n",
       "    </tr>\n",
       "    <tr>\n",
       "      <th>75%</th>\n",
       "      <td>2.0</td>\n",
       "      <td>3.000000</td>\n",
       "      <td>11867.00000</td>\n",
       "      <td>11103.000000</td>\n",
       "      <td>18881.000000</td>\n",
       "      <td>1741.000000</td>\n",
       "      <td>7677.00000</td>\n",
       "      <td>2098.000000</td>\n",
       "      <td>2.0</td>\n",
       "    </tr>\n",
       "    <tr>\n",
       "      <th>max</th>\n",
       "      <td>2.0</td>\n",
       "      <td>3.000000</td>\n",
       "      <td>40721.00000</td>\n",
       "      <td>25862.000000</td>\n",
       "      <td>36486.000000</td>\n",
       "      <td>8132.000000</td>\n",
       "      <td>17120.00000</td>\n",
       "      <td>7844.000000</td>\n",
       "      <td>2.0</td>\n",
       "    </tr>\n",
       "  </tbody>\n",
       "</table>\n",
       "</div>"
      ],
      "text/plain": [
       "       Channel      Region        Fresh          Milk       Grocery  \\\n",
       "count    125.0  125.000000    125.00000    125.000000    125.000000   \n",
       "mean       2.0    2.672000   7877.64000   8913.512000  14212.624000   \n",
       "std        0.0    0.644781   7702.17998   4702.858495   6806.232234   \n",
       "min        2.0    1.000000     18.00000   1124.000000   4523.000000   \n",
       "25%        2.0    3.000000   1989.00000   6128.000000   9426.000000   \n",
       "50%        2.0    3.000000   5417.00000   7704.000000  12144.000000   \n",
       "75%        2.0    3.000000  11867.00000  11103.000000  18881.000000   \n",
       "max        2.0    3.000000  40721.00000  25862.000000  36486.000000   \n",
       "\n",
       "            Frozen  Detergents_Paper   Delicassen  cluster  \n",
       "count   125.000000         125.00000   125.000000    125.0  \n",
       "mean   1339.280000        6149.59200  1537.168000      2.0  \n",
       "std    1250.843423        3479.70682  1445.361718      0.0  \n",
       "min      33.000000         549.00000     3.000000      2.0  \n",
       "25%     480.000000        3712.00000   531.000000      2.0  \n",
       "50%     993.000000        5162.00000  1265.000000      2.0  \n",
       "75%    1741.000000        7677.00000  2098.000000      2.0  \n",
       "max    8132.000000       17120.00000  7844.000000      2.0  "
      ]
     },
     "execution_count": 21,
     "metadata": {},
     "output_type": "execute_result"
    }
   ],
   "source": [
    "#### VALE 1.0 ponto\n",
    "#### EXECUTE O COMANDO ABAIXO PARA clusterB\n",
    "\n",
    "clusterB.describe()"
   ]
  },
  {
   "cell_type": "markdown",
   "metadata": {},
   "source": [
    "Comparando as médias, valores minimos e máximos obtidos, há diferença entre o subconjunto clusterA e clusterB?"
   ]
  },
  {
   "cell_type": "markdown",
   "metadata": {},
   "source": [
    "**RESPOSTA** (VALE 0.5 pontos): (responda aqui, dê dois cliques para editar)\n",
    "\n",
    "Sim, há diferenças. Os subconjuntos apresentam valores distintos."
   ]
  },
  {
   "cell_type": "markdown",
   "metadata": {},
   "source": [
    "Sendo dois agrupamentos distintos, qual rotulo poderiamos utilizar para identifica-los? Justifique a sua resposta"
   ]
  },
  {
   "cell_type": "markdown",
   "metadata": {},
   "source": [
    "**RESPOSTA** (VALE 0.5 pontos): (responda aqui, dê dois cliques para editar)"
   ]
  },
  {
   "cell_type": "markdown",
   "metadata": {},
   "source": [
    "# Exercicio 3. (3 pontos)\n",
    "\n",
    "Responda, quais são as vantagens e desvantagens do algoritmo K-Médias?"
   ]
  },
  {
   "cell_type": "markdown",
   "metadata": {},
   "source": [
    "**RESPOSTA** (VALE 1.0 ponto): (responda aqui, dê dois cliques para editar)\n",
    "\n",
    "**Vantagens:**\n",
    "Relativamente simples de realizar implementação;\n",
    "Consegue ser generalizado e adaptado para novos exemplos e clusters de formatos diferentes;\n",
    "Consegue escalar para grandes conjuntos.\n",
    "\n",
    "**Desvantagens**\n",
    "O gráfico de cotovelo deve ser interpretado manualmente para escolher o K;\n",
    "Outliers complicam o agrupamento;\n",
    "O número de dimensões atrapalha o agrupamento."
   ]
  },
  {
   "cell_type": "markdown",
   "metadata": {},
   "source": [
    "Quantos elementos há em cada clusters se o numero de clusters for igual ao total de observações?"
   ]
  },
  {
   "cell_type": "markdown",
   "metadata": {},
   "source": [
    "**RESPOSTA** (VALE 1.0 ponto): (responda aqui, dê dois cliques para editar)\n",
    "\n",
    "Um elemento"
   ]
  },
  {
   "cell_type": "markdown",
   "metadata": {},
   "source": [
    "Se o parametro **k** for igual a 1, quantos clusters teremos e quantos elementos há em cada cluster?"
   ]
  },
  {
   "cell_type": "markdown",
   "metadata": {},
   "source": [
    "**RESPOSTA** (VALE 1.0 ponto): (responda aqui, dê dois cliques para editar)\n",
    "\n",
    "Não é possível usar k-means com menos de 2 agrupamentos."
   ]
  }
 ],
 "metadata": {
  "interpreter": {
   "hash": "0c85a8c794e2ef35fe4da22a5230fa839f732614150129be0b83f468abb08431"
  },
  "kernelspec": {
   "display_name": "Python 3.10.4 ('.projeto2': venv)",
   "language": "python",
   "name": "python3"
  },
  "language_info": {
   "codemirror_mode": {
    "name": "ipython",
    "version": 3
   },
   "file_extension": ".py",
   "mimetype": "text/x-python",
   "name": "python",
   "nbconvert_exporter": "python",
   "pygments_lexer": "ipython3",
   "version": "3.10.4"
  }
 },
 "nbformat": 4,
 "nbformat_minor": 4
}
